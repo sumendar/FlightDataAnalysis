{
 "cells": [
  {
   "cell_type": "markdown",
   "metadata": {
    "run_control": {
     "frozen": false,
     "read_only": false
    }
   },
   "source": [
    "Download the dataset from (from the ASA Data Expo 2009) http://stat-computing.org/dataexpo/2009/the-data.html save the file into data folder    "
   ]
  },
  {
   "cell_type": "code",
   "execution_count": 2,
   "metadata": {
    "run_control": {
     "frozen": false,
     "read_only": false
    }
   },
   "outputs": [
    {
     "name": "stderr",
     "output_type": "stream",
     "text": [
      "Loading required package: data.table\n"
     ]
    },
    {
     "data": {
      "text/html": [
       "<strong>data.table:</strong> TRUE"
      ],
      "text/latex": [
       "\\textbf{data.table:} TRUE"
      ],
      "text/markdown": [
       "**data.table:** TRUE"
      ],
      "text/plain": [
       "data.table \n",
       "      TRUE "
      ]
     },
     "metadata": {},
     "output_type": "display_data"
    }
   ],
   "source": [
    "# ipak function: install and load multiple R packages.\n",
    "# check to see if packages are installed. Install them if they are not, then load them into the R session.\n",
    "\n",
    "ipak <- function(pkg){\n",
    "    new.pkg <- pkg[!(pkg %in% installed.packages()[, \"Package\"])]\n",
    "    if (length(new.pkg)) \n",
    "        install.packages(new.pkg, \n",
    "                         dependencies = TRUE, \n",
    "                         repos = \"http://cran.us.r-project.org\", \n",
    "                         lib = \"C://Users//Suman//Documents//R//win-library//3.3\")\n",
    "    sapply(pkg, require, character.only = TRUE)\n",
    "}\n",
    "\n",
    "# usage\n",
    "packages <- c(\"data.table\")\n",
    "ipak(packages)"
   ]
  },
  {
   "cell_type": "code",
   "execution_count": 3,
   "metadata": {
    "run_control": {
     "frozen": false,
     "read_only": false
    }
   },
   "outputs": [
    {
     "name": "stdout",
     "output_type": "stream",
     "text": [
      "\r",
      "Read 0.0% of 7009728 rows\r",
      "Read 5.4% of 7009728 rows\r",
      "Read 9.8% of 7009728 rows\r",
      "Read 14.7% of 7009728 rows\r",
      "Read 20.0% of 7009728 rows\r",
      "Read 25.3% of 7009728 rows\r",
      "Read 30.5% of 7009728 rows\r",
      "Read 34.8% of 7009728 rows\r",
      "Read 40.1% of 7009728 rows\r",
      "Read 45.4% of 7009728 rows\r",
      "Read 50.4% of 7009728 rows\r",
      "Read 55.6% of 7009728 rows\r",
      "Read 59.9% of 7009728 rows\r",
      "Read 64.3% of 7009728 rows\r",
      "Read 68.8% of 7009728 rows\r",
      "Read 74.0% of 7009728 rows\r",
      "Read 79.3% of 7009728 rows\r",
      "Read 82.3% of 7009728 rows\r",
      "Read 82.5% of 7009728 rows\r",
      "Read 82.6% of 7009728 rows\r",
      "Read 84.9% of 7009728 rows\r",
      "Read 90.2% of 7009728 rows\r",
      "Read 95.6% of 7009728 rows\r",
      "Read 99.9% of 7009728 rows\r",
      "Read 7009728 rows and 29 (of 29) columns from 0.642 GB file in 00:00:33\n"
     ]
    }
   ],
   "source": [
    "myDF <- fread(\"D:/GitHub/FLflightDataAnalysis/data/2008.csv\")  # fread used from data.table package for fast reading"
   ]
  },
  {
   "cell_type": "code",
   "execution_count": 5,
   "metadata": {
    "collapsed": true,
    "run_control": {
     "frozen": false,
     "read_only": false
    }
   },
   "outputs": [],
   "source": [
    "#dim(myDF) #Since it takes long time to read all rows and columns we just read one time the rows and columns and made a comment "
   ]
  },
  {
   "cell_type": "code",
   "execution_count": 6,
   "metadata": {
    "run_control": {
     "frozen": false,
     "read_only": false
    }
   },
   "outputs": [
    {
     "data": {
      "text/html": [
       "<ol class=list-inline>\n",
       "\t<li>'Year'</li>\n",
       "\t<li>'Month'</li>\n",
       "\t<li>'DayofMonth'</li>\n",
       "\t<li>'DayOfWeek'</li>\n",
       "\t<li>'DepTime'</li>\n",
       "\t<li>'CRSDepTime'</li>\n",
       "\t<li>'ArrTime'</li>\n",
       "\t<li>'CRSArrTime'</li>\n",
       "\t<li>'UniqueCarrier'</li>\n",
       "\t<li>'FlightNum'</li>\n",
       "\t<li>'TailNum'</li>\n",
       "\t<li>'ActualElapsedTime'</li>\n",
       "\t<li>'CRSElapsedTime'</li>\n",
       "\t<li>'AirTime'</li>\n",
       "\t<li>'ArrDelay'</li>\n",
       "\t<li>'DepDelay'</li>\n",
       "\t<li>'Origin'</li>\n",
       "\t<li>'Dest'</li>\n",
       "\t<li>'Distance'</li>\n",
       "\t<li>'TaxiIn'</li>\n",
       "\t<li>'TaxiOut'</li>\n",
       "\t<li>'Cancelled'</li>\n",
       "\t<li>'CancellationCode'</li>\n",
       "\t<li>'Diverted'</li>\n",
       "\t<li>'CarrierDelay'</li>\n",
       "\t<li>'WeatherDelay'</li>\n",
       "\t<li>'NASDelay'</li>\n",
       "\t<li>'SecurityDelay'</li>\n",
       "\t<li>'LateAircraftDelay'</li>\n",
       "</ol>\n"
      ],
      "text/latex": [
       "\\begin{enumerate*}\n",
       "\\item 'Year'\n",
       "\\item 'Month'\n",
       "\\item 'DayofMonth'\n",
       "\\item 'DayOfWeek'\n",
       "\\item 'DepTime'\n",
       "\\item 'CRSDepTime'\n",
       "\\item 'ArrTime'\n",
       "\\item 'CRSArrTime'\n",
       "\\item 'UniqueCarrier'\n",
       "\\item 'FlightNum'\n",
       "\\item 'TailNum'\n",
       "\\item 'ActualElapsedTime'\n",
       "\\item 'CRSElapsedTime'\n",
       "\\item 'AirTime'\n",
       "\\item 'ArrDelay'\n",
       "\\item 'DepDelay'\n",
       "\\item 'Origin'\n",
       "\\item 'Dest'\n",
       "\\item 'Distance'\n",
       "\\item 'TaxiIn'\n",
       "\\item 'TaxiOut'\n",
       "\\item 'Cancelled'\n",
       "\\item 'CancellationCode'\n",
       "\\item 'Diverted'\n",
       "\\item 'CarrierDelay'\n",
       "\\item 'WeatherDelay'\n",
       "\\item 'NASDelay'\n",
       "\\item 'SecurityDelay'\n",
       "\\item 'LateAircraftDelay'\n",
       "\\end{enumerate*}\n"
      ],
      "text/markdown": [
       "1. 'Year'\n",
       "2. 'Month'\n",
       "3. 'DayofMonth'\n",
       "4. 'DayOfWeek'\n",
       "5. 'DepTime'\n",
       "6. 'CRSDepTime'\n",
       "7. 'ArrTime'\n",
       "8. 'CRSArrTime'\n",
       "9. 'UniqueCarrier'\n",
       "10. 'FlightNum'\n",
       "11. 'TailNum'\n",
       "12. 'ActualElapsedTime'\n",
       "13. 'CRSElapsedTime'\n",
       "14. 'AirTime'\n",
       "15. 'ArrDelay'\n",
       "16. 'DepDelay'\n",
       "17. 'Origin'\n",
       "18. 'Dest'\n",
       "19. 'Distance'\n",
       "20. 'TaxiIn'\n",
       "21. 'TaxiOut'\n",
       "22. 'Cancelled'\n",
       "23. 'CancellationCode'\n",
       "24. 'Diverted'\n",
       "25. 'CarrierDelay'\n",
       "26. 'WeatherDelay'\n",
       "27. 'NASDelay'\n",
       "28. 'SecurityDelay'\n",
       "29. 'LateAircraftDelay'\n",
       "\n",
       "\n"
      ],
      "text/plain": [
       " [1] \"Year\"              \"Month\"             \"DayofMonth\"       \n",
       " [4] \"DayOfWeek\"         \"DepTime\"           \"CRSDepTime\"       \n",
       " [7] \"ArrTime\"           \"CRSArrTime\"        \"UniqueCarrier\"    \n",
       "[10] \"FlightNum\"         \"TailNum\"           \"ActualElapsedTime\"\n",
       "[13] \"CRSElapsedTime\"    \"AirTime\"           \"ArrDelay\"         \n",
       "[16] \"DepDelay\"          \"Origin\"            \"Dest\"             \n",
       "[19] \"Distance\"          \"TaxiIn\"            \"TaxiOut\"          \n",
       "[22] \"Cancelled\"         \"CancellationCode\"  \"Diverted\"         \n",
       "[25] \"CarrierDelay\"      \"WeatherDelay\"      \"NASDelay\"         \n",
       "[28] \"SecurityDelay\"     \"LateAircraftDelay\""
      ]
     },
     "metadata": {},
     "output_type": "display_data"
    }
   ],
   "source": [
    "names(myDF)"
   ]
  },
  {
   "cell_type": "code",
   "execution_count": 7,
   "metadata": {
    "run_control": {
     "frozen": false,
     "read_only": false
    },
    "scrolled": true
   },
   "outputs": [
    {
     "name": "stdout",
     "output_type": "stream",
     "text": [
      "   Year Month DayofMonth DayOfWeek DepTime CRSDepTime ArrTime CRSArrTime\n",
      "1: 2008     1          3         4    2003       1955    2211       2225\n",
      "2: 2008     1          3         4     754        735    1002       1000\n",
      "3: 2008     1          3         4     628        620     804        750\n",
      "4: 2008     1          3         4     926        930    1054       1100\n",
      "5: 2008     1          3         4    1829       1755    1959       1925\n",
      "6: 2008     1          3         4    1940       1915    2121       2110\n",
      "   UniqueCarrier FlightNum TailNum ActualElapsedTime CRSElapsedTime AirTime\n",
      "1:            WN       335  N712SW               128            150     116\n",
      "2:            WN      3231  N772SW               128            145     113\n",
      "3:            WN       448  N428WN                96             90      76\n",
      "4:            WN      1746  N612SW                88             90      78\n",
      "5:            WN      3920  N464WN                90             90      77\n",
      "6:            WN       378  N726SW               101            115      87\n",
      "   ArrDelay DepDelay Origin Dest Distance TaxiIn TaxiOut Cancelled\n",
      "1:      -14        8    IAD  TPA      810      4       8         0\n",
      "2:        2       19    IAD  TPA      810      5      10         0\n",
      "3:       14        8    IND  BWI      515      3      17         0\n",
      "4:       -6       -4    IND  BWI      515      3       7         0\n",
      "5:       34       34    IND  BWI      515      3      10         0\n",
      "6:       11       25    IND  JAX      688      4      10         0\n",
      "   CancellationCode Diverted CarrierDelay WeatherDelay NASDelay SecurityDelay\n",
      "1:                         0           NA           NA       NA            NA\n",
      "2:                         0           NA           NA       NA            NA\n",
      "3:                         0           NA           NA       NA            NA\n",
      "4:                         0           NA           NA       NA            NA\n",
      "5:                         0            2            0        0             0\n",
      "6:                         0           NA           NA       NA            NA\n",
      "   LateAircraftDelay\n",
      "1:                NA\n",
      "2:                NA\n",
      "3:                NA\n",
      "4:                NA\n",
      "5:                32\n",
      "6:                NA\n"
     ]
    }
   ],
   "source": [
    "print(head(myDF))"
   ]
  },
  {
   "cell_type": "code",
   "execution_count": 8,
   "metadata": {
    "run_control": {
     "frozen": false,
     "read_only": false
    }
   },
   "outputs": [
    {
     "name": "stdout",
     "output_type": "stream",
     "text": [
      "[1] \"IAD\" \"IAD\" \"IND\" \"IND\" \"IND\" \"IND\"\n",
      "[1] \"SAV\" \"ATL\" \"ATL\" \"PBI\" \"IAD\" \"SAT\"\n"
     ]
    }
   ],
   "source": [
    "print(head(myDF$Origin))\n",
    "print(tail(myDF$Origin))"
   ]
  },
  {
   "cell_type": "code",
   "execution_count": 9,
   "metadata": {
    "run_control": {
     "frozen": false,
     "read_only": false
    }
   },
   "outputs": [
    {
     "name": "stdout",
     "output_type": "stream",
     "text": [
      "[1] \"TPA\" \"TPA\" \"BWI\" \"BWI\" \"BWI\" \"JAX\"\n",
      "[1] \"ATL\" \"IAD\" \"SAT\" \"ATL\" \"ATL\" \"ATL\"\n"
     ]
    }
   ],
   "source": [
    "print(head(myDF$Dest))\n",
    "print(tail(myDF$Dest))"
   ]
  },
  {
   "cell_type": "code",
   "execution_count": 10,
   "metadata": {
    "run_control": {
     "frozen": false,
     "read_only": false
    }
   },
   "outputs": [
    {
     "data": {
      "text/html": [
       "7009728"
      ],
      "text/latex": [
       "7009728"
      ],
      "text/markdown": [
       "7009728"
      ],
      "text/plain": [
       "[1] 7009728"
      ]
     },
     "metadata": {},
     "output_type": "display_data"
    }
   ],
   "source": [
    "nrow(myDF)"
   ]
  },
  {
   "cell_type": "code",
   "execution_count": 11,
   "metadata": {
    "run_control": {
     "frozen": false,
     "read_only": false
    }
   },
   "outputs": [
    {
     "data": {
      "text/html": [
       "<ol class=list-inline>\n",
       "\t<li>FALSE</li>\n",
       "\t<li>FALSE</li>\n",
       "\t<li>TRUE</li>\n",
       "\t<li>TRUE</li>\n",
       "\t<li>TRUE</li>\n",
       "\t<li>TRUE</li>\n",
       "</ol>\n"
      ],
      "text/latex": [
       "\\begin{enumerate*}\n",
       "\\item FALSE\n",
       "\\item FALSE\n",
       "\\item TRUE\n",
       "\\item TRUE\n",
       "\\item TRUE\n",
       "\\item TRUE\n",
       "\\end{enumerate*}\n"
      ],
      "text/markdown": [
       "1. FALSE\n",
       "2. FALSE\n",
       "3. TRUE\n",
       "4. TRUE\n",
       "5. TRUE\n",
       "6. TRUE\n",
       "\n",
       "\n"
      ],
      "text/plain": [
       "[1] FALSE FALSE  TRUE  TRUE  TRUE  TRUE"
      ]
     },
     "metadata": {},
     "output_type": "display_data"
    }
   ],
   "source": [
    "head(myDF$Origin == \"IND\") # from first six fligtht which are coming from IND"
   ]
  },
  {
   "cell_type": "code",
   "execution_count": 12,
   "metadata": {
    "run_control": {
     "frozen": false,
     "read_only": false
    }
   },
   "outputs": [
    {
     "data": {
      "text/html": [
       "42750"
      ],
      "text/latex": [
       "42750"
      ],
      "text/markdown": [
       "42750"
      ],
      "text/plain": [
       "[1] 42750"
      ]
     },
     "metadata": {},
     "output_type": "display_data"
    }
   ],
   "source": [
    "sum(myDF$Origin == \"IND\")\n",
    "# the number of flights departing from Indy in 2008"
   ]
  },
  {
   "cell_type": "code",
   "execution_count": 13,
   "metadata": {
    "run_control": {
     "frozen": false,
     "read_only": false
    }
   },
   "outputs": [
    {
     "data": {
      "text/html": [
       "42732"
      ],
      "text/latex": [
       "42732"
      ],
      "text/markdown": [
       "42732"
      ],
      "text/plain": [
       "[1] 42732"
      ]
     },
     "metadata": {},
     "output_type": "display_data"
    }
   ],
   "source": [
    "# how many destination city \"IND\n",
    "sum(myDF$Dest == \"IND\")"
   ]
  },
  {
   "cell_type": "code",
   "execution_count": 14,
   "metadata": {
    "run_control": {
     "frozen": false,
     "read_only": false
    }
   },
   "outputs": [
    {
     "data": {
      "text/html": [
       "350380"
      ],
      "text/latex": [
       "350380"
      ],
      "text/markdown": [
       "350380"
      ],
      "text/plain": [
       "[1] 350380"
      ]
     },
     "metadata": {},
     "output_type": "display_data"
    }
   ],
   "source": [
    "# In 2008, how many flights departed from O’Hare Airport (ORD)?\n",
    "sum(myDF$Origin == \"ORD\")"
   ]
  },
  {
   "cell_type": "code",
   "execution_count": 15,
   "metadata": {
    "run_control": {
     "frozen": false,
     "read_only": false
    },
    "scrolled": true
   },
   "outputs": [
    {
     "data": {
      "text/html": [
       "350452"
      ],
      "text/latex": [
       "350452"
      ],
      "text/markdown": [
       "350452"
      ],
      "text/plain": [
       "[1] 350452"
      ]
     },
     "metadata": {},
     "output_type": "display_data"
    }
   ],
   "source": [
    "# In 2008, how many flights arrived at O’Hare Airport (ORD)?\n",
    "sum(myDF$Dest == \"ORD\" )"
   ]
  },
  {
   "cell_type": "code",
   "execution_count": 16,
   "metadata": {
    "run_control": {
     "frozen": false,
     "read_only": false
    }
   },
   "outputs": [
    {
     "data": {
      "text/html": [
       "4102"
      ],
      "text/latex": [
       "4102"
      ],
      "text/markdown": [
       "4102"
      ],
      "text/plain": [
       "[1] 4102"
      ]
     },
     "metadata": {},
     "output_type": "display_data"
    }
   ],
   "source": [
    "#How many flights in the data set departed from the Indianapolis Airport (IND) and arrived at the O’Hare Airport (ORD)?\n",
    "sum((myDF$Origin == \"IND\") & (myDF$Dest == \"ORD\"))"
   ]
  },
  {
   "cell_type": "markdown",
   "metadata": {},
   "source": [
    "### Extracting Flight Data with a Common City of Origin"
   ]
  },
  {
   "cell_type": "code",
   "execution_count": 17,
   "metadata": {
    "run_control": {
     "frozen": false,
     "read_only": false
    }
   },
   "outputs": [
    {
     "data": {
      "text/html": [
       "42750"
      ],
      "text/latex": [
       "42750"
      ],
      "text/markdown": [
       "42750"
      ],
      "text/plain": [
       "[1] 42750"
      ]
     },
     "metadata": {},
     "output_type": "display_data"
    }
   ],
   "source": [
    "MyIndyOrigins <- subset(myDF, myDF$Origin == \"IND\")\n",
    "nrow(MyIndyOrigins)"
   ]
  },
  {
   "cell_type": "code",
   "execution_count": 18,
   "metadata": {
    "run_control": {
     "frozen": false,
     "read_only": false
    }
   },
   "outputs": [
    {
     "name": "stdout",
     "output_type": "stream",
     "text": [
      "[1] 42732\n"
     ]
    }
   ],
   "source": [
    "IndianapolisDestinations <- subset(myDF, myDF$Dest == \"IND\")\n",
    "print(nrow(IndianapolisDestinations))"
   ]
  },
  {
   "cell_type": "code",
   "execution_count": 19,
   "metadata": {
    "run_control": {
     "frozen": false,
     "read_only": false
    }
   },
   "outputs": [
    {
     "data": {
      "text/html": [
       "<ol class=list-inline>\n",
       "\t<li>'IndianapolisDestinations'</li>\n",
       "\t<li>'ipak'</li>\n",
       "\t<li>'myDF'</li>\n",
       "\t<li>'MyIndyOrigins'</li>\n",
       "\t<li>'packages'</li>\n",
       "</ol>\n"
      ],
      "text/latex": [
       "\\begin{enumerate*}\n",
       "\\item 'IndianapolisDestinations'\n",
       "\\item 'ipak'\n",
       "\\item 'myDF'\n",
       "\\item 'MyIndyOrigins'\n",
       "\\item 'packages'\n",
       "\\end{enumerate*}\n"
      ],
      "text/markdown": [
       "1. 'IndianapolisDestinations'\n",
       "2. 'ipak'\n",
       "3. 'myDF'\n",
       "4. 'MyIndyOrigins'\n",
       "5. 'packages'\n",
       "\n",
       "\n"
      ],
      "text/plain": [
       "[1] \"IndianapolisDestinations\" \"ipak\"                    \n",
       "[3] \"myDF\"                     \"MyIndyOrigins\"           \n",
       "[5] \"packages\"                "
      ]
     },
     "metadata": {},
     "output_type": "display_data"
    }
   ],
   "source": [
    "ls()"
   ]
  },
  {
   "cell_type": "code",
   "execution_count": 20,
   "metadata": {
    "run_control": {
     "frozen": false,
     "read_only": false
    }
   },
   "outputs": [
    {
     "data": {
      "text/html": [
       "<table>\n",
       "<thead><tr><th scope=col>FlightNum</th><th scope=col>TailNum</th><th scope=col>ActualElapsedTime</th><th scope=col>CRSElapsedTime</th><th scope=col>AirTime</th><th scope=col>ArrDelay</th><th scope=col>DepDelay</th><th scope=col>Origin</th><th scope=col>Dest</th><th scope=col>Distance</th><th scope=col>TaxiIn</th><th scope=col>TaxiOut</th><th scope=col>Cancelled</th><th scope=col>CancellationCode</th><th scope=col>Diverted</th><th scope=col>CarrierDelay</th><th scope=col>WeatherDelay</th><th scope=col>NASDelay</th><th scope=col>SecurityDelay</th><th scope=col>LateAircraftDelay</th></tr></thead>\n",
       "<tbody>\n",
       "\t<tr><td> 448  </td><td>N428WN</td><td> 96   </td><td> 90   </td><td> 76   </td><td> 14   </td><td> 8    </td><td>IND   </td><td>BWI   </td><td> 515  </td><td>3     </td><td>17    </td><td>0     </td><td>      </td><td>0     </td><td>NA    </td><td>NA    </td><td>NA    </td><td>NA    </td><td>NA    </td></tr>\n",
       "\t<tr><td>1746  </td><td>N612SW</td><td> 88   </td><td> 90   </td><td> 78   </td><td> -6   </td><td>-4    </td><td>IND   </td><td>BWI   </td><td> 515  </td><td>3     </td><td> 7    </td><td>0     </td><td>      </td><td>0     </td><td>NA    </td><td>NA    </td><td>NA    </td><td>NA    </td><td>NA    </td></tr>\n",
       "\t<tr><td>3920  </td><td>N464WN</td><td> 90   </td><td> 90   </td><td> 77   </td><td> 34   </td><td>34    </td><td>IND   </td><td>BWI   </td><td> 515  </td><td>3     </td><td>10    </td><td>0     </td><td>      </td><td>0     </td><td> 2    </td><td> 0    </td><td> 0    </td><td> 0    </td><td>32    </td></tr>\n",
       "\t<tr><td> 378  </td><td>N726SW</td><td>101   </td><td>115   </td><td> 87   </td><td> 11   </td><td>25    </td><td>IND   </td><td>JAX   </td><td> 688  </td><td>4     </td><td>10    </td><td>0     </td><td>      </td><td>0     </td><td>NA    </td><td>NA    </td><td>NA    </td><td>NA    </td><td>NA    </td></tr>\n",
       "\t<tr><td> 509  </td><td>N763SW</td><td>240   </td><td>250   </td><td>230   </td><td> 57   </td><td>67    </td><td>IND   </td><td>LAS   </td><td>1591  </td><td>3     </td><td> 7    </td><td>0     </td><td>      </td><td>0     </td><td>10    </td><td> 0    </td><td> 0    </td><td> 0    </td><td>47    </td></tr>\n",
       "\t<tr><td> 535  </td><td>N428WN</td><td>233   </td><td>250   </td><td>219   </td><td>-18   </td><td>-1    </td><td>IND   </td><td>LAS   </td><td>1591  </td><td>7     </td><td> 7    </td><td>0     </td><td>      </td><td>0     </td><td>NA    </td><td>NA    </td><td>NA    </td><td>NA    </td><td>NA    </td></tr>\n",
       "</tbody>\n",
       "</table>\n"
      ],
      "text/latex": [
       "\\begin{tabular}{r|llllllllllllllllllll}\n",
       " FlightNum & TailNum & ActualElapsedTime & CRSElapsedTime & AirTime & ArrDelay & DepDelay & Origin & Dest & Distance & TaxiIn & TaxiOut & Cancelled & CancellationCode & Diverted & CarrierDelay & WeatherDelay & NASDelay & SecurityDelay & LateAircraftDelay\\\\\n",
       "\\hline\n",
       "\t  448   & N428WN &  96    &  90    &  76    &  14    &  8     & IND    & BWI    &  515   & 3      & 17     & 0      &        & 0      & NA     & NA     & NA     & NA     & NA    \\\\\n",
       "\t 1746   & N612SW &  88    &  90    &  78    &  -6    & -4     & IND    & BWI    &  515   & 3      &  7     & 0      &        & 0      & NA     & NA     & NA     & NA     & NA    \\\\\n",
       "\t 3920   & N464WN &  90    &  90    &  77    &  34    & 34     & IND    & BWI    &  515   & 3      & 10     & 0      &        & 0      &  2     &  0     &  0     &  0     & 32    \\\\\n",
       "\t  378   & N726SW & 101    & 115    &  87    &  11    & 25     & IND    & JAX    &  688   & 4      & 10     & 0      &        & 0      & NA     & NA     & NA     & NA     & NA    \\\\\n",
       "\t  509   & N763SW & 240    & 250    & 230    &  57    & 67     & IND    & LAS    & 1591   & 3      &  7     & 0      &        & 0      & 10     &  0     &  0     &  0     & 47    \\\\\n",
       "\t  535   & N428WN & 233    & 250    & 219    & -18    & -1     & IND    & LAS    & 1591   & 7      &  7     & 0      &        & 0      & NA     & NA     & NA     & NA     & NA    \\\\\n",
       "\\end{tabular}\n"
      ],
      "text/markdown": [
       "\n",
       "FlightNum | TailNum | ActualElapsedTime | CRSElapsedTime | AirTime | ArrDelay | DepDelay | Origin | Dest | Distance | TaxiIn | TaxiOut | Cancelled | CancellationCode | Diverted | CarrierDelay | WeatherDelay | NASDelay | SecurityDelay | LateAircraftDelay | \n",
       "|---|---|---|---|---|---|\n",
       "|  448   | N428WN |  96    |  90    |  76    |  14    |  8     | IND    | BWI    |  515   | 3      | 17     | 0      |        | 0      | NA     | NA     | NA     | NA     | NA     | \n",
       "| 1746   | N612SW |  88    |  90    |  78    |  -6    | -4     | IND    | BWI    |  515   | 3      |  7     | 0      |        | 0      | NA     | NA     | NA     | NA     | NA     | \n",
       "| 3920   | N464WN |  90    |  90    |  77    |  34    | 34     | IND    | BWI    |  515   | 3      | 10     | 0      |        | 0      |  2     |  0     |  0     |  0     | 32     | \n",
       "|  378   | N726SW | 101    | 115    |  87    |  11    | 25     | IND    | JAX    |  688   | 4      | 10     | 0      |        | 0      | NA     | NA     | NA     | NA     | NA     | \n",
       "|  509   | N763SW | 240    | 250    | 230    |  57    | 67     | IND    | LAS    | 1591   | 3      |  7     | 0      |        | 0      | 10     |  0     |  0     |  0     | 47     | \n",
       "|  535   | N428WN | 233    | 250    | 219    | -18    | -1     | IND    | LAS    | 1591   | 7      |  7     | 0      |        | 0      | NA     | NA     | NA     | NA     | NA     | \n",
       "\n",
       "\n"
      ],
      "text/plain": [
       "  FlightNum TailNum ActualElapsedTime CRSElapsedTime AirTime ArrDelay DepDelay\n",
       "1  448      N428WN   96                90             76      14       8      \n",
       "2 1746      N612SW   88                90             78      -6      -4      \n",
       "3 3920      N464WN   90                90             77      34      34      \n",
       "4  378      N726SW  101               115             87      11      25      \n",
       "5  509      N763SW  240               250            230      57      67      \n",
       "6  535      N428WN  233               250            219     -18      -1      \n",
       "  Origin Dest Distance TaxiIn TaxiOut Cancelled CancellationCode Diverted\n",
       "1 IND    BWI   515     3      17      0                          0       \n",
       "2 IND    BWI   515     3       7      0                          0       \n",
       "3 IND    BWI   515     3      10      0                          0       \n",
       "4 IND    JAX   688     4      10      0                          0       \n",
       "5 IND    LAS  1591     3       7      0                          0       \n",
       "6 IND    LAS  1591     7       7      0                          0       \n",
       "  CarrierDelay WeatherDelay NASDelay SecurityDelay LateAircraftDelay\n",
       "1 NA           NA           NA       NA            NA               \n",
       "2 NA           NA           NA       NA            NA               \n",
       "3  2            0            0        0            32               \n",
       "4 NA           NA           NA       NA            NA               \n",
       "5 10            0            0        0            47               \n",
       "6 NA           NA           NA       NA            NA               "
      ]
     },
     "metadata": {},
     "output_type": "display_data"
    }
   ],
   "source": [
    "head(MyIndyOrigins[,10:ncol(MyIndyOrigins)])"
   ]
  },
  {
   "cell_type": "code",
   "execution_count": 21,
   "metadata": {
    "run_control": {
     "frozen": false,
     "read_only": false
    }
   },
   "outputs": [
    {
     "data": {
      "text/html": [
       "<ol class=list-inline>\n",
       "\t<li>'Year'</li>\n",
       "\t<li>'Month'</li>\n",
       "\t<li>'DayofMonth'</li>\n",
       "\t<li>'DayOfWeek'</li>\n",
       "\t<li>'DepTime'</li>\n",
       "\t<li>'CRSDepTime'</li>\n",
       "\t<li>'ArrTime'</li>\n",
       "\t<li>'CRSArrTime'</li>\n",
       "\t<li>'UniqueCarrier'</li>\n",
       "\t<li>'FlightNum'</li>\n",
       "\t<li>'TailNum'</li>\n",
       "\t<li>'ActualElapsedTime'</li>\n",
       "\t<li>'CRSElapsedTime'</li>\n",
       "\t<li>'AirTime'</li>\n",
       "\t<li>'ArrDelay'</li>\n",
       "\t<li>'DepDelay'</li>\n",
       "\t<li>'Origin'</li>\n",
       "\t<li>'Dest'</li>\n",
       "\t<li>'Distance'</li>\n",
       "\t<li>'TaxiIn'</li>\n",
       "\t<li>'TaxiOut'</li>\n",
       "\t<li>'Cancelled'</li>\n",
       "\t<li>'CancellationCode'</li>\n",
       "\t<li>'Diverted'</li>\n",
       "\t<li>'CarrierDelay'</li>\n",
       "\t<li>'WeatherDelay'</li>\n",
       "\t<li>'NASDelay'</li>\n",
       "\t<li>'SecurityDelay'</li>\n",
       "\t<li>'LateAircraftDelay'</li>\n",
       "</ol>\n"
      ],
      "text/latex": [
       "\\begin{enumerate*}\n",
       "\\item 'Year'\n",
       "\\item 'Month'\n",
       "\\item 'DayofMonth'\n",
       "\\item 'DayOfWeek'\n",
       "\\item 'DepTime'\n",
       "\\item 'CRSDepTime'\n",
       "\\item 'ArrTime'\n",
       "\\item 'CRSArrTime'\n",
       "\\item 'UniqueCarrier'\n",
       "\\item 'FlightNum'\n",
       "\\item 'TailNum'\n",
       "\\item 'ActualElapsedTime'\n",
       "\\item 'CRSElapsedTime'\n",
       "\\item 'AirTime'\n",
       "\\item 'ArrDelay'\n",
       "\\item 'DepDelay'\n",
       "\\item 'Origin'\n",
       "\\item 'Dest'\n",
       "\\item 'Distance'\n",
       "\\item 'TaxiIn'\n",
       "\\item 'TaxiOut'\n",
       "\\item 'Cancelled'\n",
       "\\item 'CancellationCode'\n",
       "\\item 'Diverted'\n",
       "\\item 'CarrierDelay'\n",
       "\\item 'WeatherDelay'\n",
       "\\item 'NASDelay'\n",
       "\\item 'SecurityDelay'\n",
       "\\item 'LateAircraftDelay'\n",
       "\\end{enumerate*}\n"
      ],
      "text/markdown": [
       "1. 'Year'\n",
       "2. 'Month'\n",
       "3. 'DayofMonth'\n",
       "4. 'DayOfWeek'\n",
       "5. 'DepTime'\n",
       "6. 'CRSDepTime'\n",
       "7. 'ArrTime'\n",
       "8. 'CRSArrTime'\n",
       "9. 'UniqueCarrier'\n",
       "10. 'FlightNum'\n",
       "11. 'TailNum'\n",
       "12. 'ActualElapsedTime'\n",
       "13. 'CRSElapsedTime'\n",
       "14. 'AirTime'\n",
       "15. 'ArrDelay'\n",
       "16. 'DepDelay'\n",
       "17. 'Origin'\n",
       "18. 'Dest'\n",
       "19. 'Distance'\n",
       "20. 'TaxiIn'\n",
       "21. 'TaxiOut'\n",
       "22. 'Cancelled'\n",
       "23. 'CancellationCode'\n",
       "24. 'Diverted'\n",
       "25. 'CarrierDelay'\n",
       "26. 'WeatherDelay'\n",
       "27. 'NASDelay'\n",
       "28. 'SecurityDelay'\n",
       "29. 'LateAircraftDelay'\n",
       "\n",
       "\n"
      ],
      "text/plain": [
       " [1] \"Year\"              \"Month\"             \"DayofMonth\"       \n",
       " [4] \"DayOfWeek\"         \"DepTime\"           \"CRSDepTime\"       \n",
       " [7] \"ArrTime\"           \"CRSArrTime\"        \"UniqueCarrier\"    \n",
       "[10] \"FlightNum\"         \"TailNum\"           \"ActualElapsedTime\"\n",
       "[13] \"CRSElapsedTime\"    \"AirTime\"           \"ArrDelay\"         \n",
       "[16] \"DepDelay\"          \"Origin\"            \"Dest\"             \n",
       "[19] \"Distance\"          \"TaxiIn\"            \"TaxiOut\"          \n",
       "[22] \"Cancelled\"         \"CancellationCode\"  \"Diverted\"         \n",
       "[25] \"CarrierDelay\"      \"WeatherDelay\"      \"NASDelay\"         \n",
       "[28] \"SecurityDelay\"     \"LateAircraftDelay\""
      ]
     },
     "metadata": {},
     "output_type": "display_data"
    },
    {
     "data": {
      "text/html": [
       "<dl class=dl-horizontal>\n",
       "\t<dt>Year</dt>\n",
       "\t\t<dd>'integer'</dd>\n",
       "\t<dt>Month</dt>\n",
       "\t\t<dd>'integer'</dd>\n",
       "\t<dt>DayofMonth</dt>\n",
       "\t\t<dd>'integer'</dd>\n",
       "\t<dt>DayOfWeek</dt>\n",
       "\t\t<dd>'integer'</dd>\n",
       "\t<dt>DepTime</dt>\n",
       "\t\t<dd>'integer'</dd>\n",
       "\t<dt>CRSDepTime</dt>\n",
       "\t\t<dd>'integer'</dd>\n",
       "\t<dt>ArrTime</dt>\n",
       "\t\t<dd>'integer'</dd>\n",
       "\t<dt>CRSArrTime</dt>\n",
       "\t\t<dd>'integer'</dd>\n",
       "\t<dt>UniqueCarrier</dt>\n",
       "\t\t<dd>'character'</dd>\n",
       "\t<dt>FlightNum</dt>\n",
       "\t\t<dd>'integer'</dd>\n",
       "\t<dt>TailNum</dt>\n",
       "\t\t<dd>'character'</dd>\n",
       "\t<dt>ActualElapsedTime</dt>\n",
       "\t\t<dd>'integer'</dd>\n",
       "\t<dt>CRSElapsedTime</dt>\n",
       "\t\t<dd>'integer'</dd>\n",
       "\t<dt>AirTime</dt>\n",
       "\t\t<dd>'integer'</dd>\n",
       "\t<dt>ArrDelay</dt>\n",
       "\t\t<dd>'integer'</dd>\n",
       "\t<dt>DepDelay</dt>\n",
       "\t\t<dd>'integer'</dd>\n",
       "\t<dt>Origin</dt>\n",
       "\t\t<dd>'character'</dd>\n",
       "\t<dt>Dest</dt>\n",
       "\t\t<dd>'character'</dd>\n",
       "\t<dt>Distance</dt>\n",
       "\t\t<dd>'integer'</dd>\n",
       "\t<dt>TaxiIn</dt>\n",
       "\t\t<dd>'integer'</dd>\n",
       "\t<dt>TaxiOut</dt>\n",
       "\t\t<dd>'integer'</dd>\n",
       "\t<dt>Cancelled</dt>\n",
       "\t\t<dd>'integer'</dd>\n",
       "\t<dt>CancellationCode</dt>\n",
       "\t\t<dd>'character'</dd>\n",
       "\t<dt>Diverted</dt>\n",
       "\t\t<dd>'integer'</dd>\n",
       "\t<dt>CarrierDelay</dt>\n",
       "\t\t<dd>'integer'</dd>\n",
       "\t<dt>WeatherDelay</dt>\n",
       "\t\t<dd>'integer'</dd>\n",
       "\t<dt>NASDelay</dt>\n",
       "\t\t<dd>'integer'</dd>\n",
       "\t<dt>SecurityDelay</dt>\n",
       "\t\t<dd>'integer'</dd>\n",
       "\t<dt>LateAircraftDelay</dt>\n",
       "\t\t<dd>'integer'</dd>\n",
       "</dl>\n"
      ],
      "text/latex": [
       "\\begin{description*}\n",
       "\\item[Year] 'integer'\n",
       "\\item[Month] 'integer'\n",
       "\\item[DayofMonth] 'integer'\n",
       "\\item[DayOfWeek] 'integer'\n",
       "\\item[DepTime] 'integer'\n",
       "\\item[CRSDepTime] 'integer'\n",
       "\\item[ArrTime] 'integer'\n",
       "\\item[CRSArrTime] 'integer'\n",
       "\\item[UniqueCarrier] 'character'\n",
       "\\item[FlightNum] 'integer'\n",
       "\\item[TailNum] 'character'\n",
       "\\item[ActualElapsedTime] 'integer'\n",
       "\\item[CRSElapsedTime] 'integer'\n",
       "\\item[AirTime] 'integer'\n",
       "\\item[ArrDelay] 'integer'\n",
       "\\item[DepDelay] 'integer'\n",
       "\\item[Origin] 'character'\n",
       "\\item[Dest] 'character'\n",
       "\\item[Distance] 'integer'\n",
       "\\item[TaxiIn] 'integer'\n",
       "\\item[TaxiOut] 'integer'\n",
       "\\item[Cancelled] 'integer'\n",
       "\\item[CancellationCode] 'character'\n",
       "\\item[Diverted] 'integer'\n",
       "\\item[CarrierDelay] 'integer'\n",
       "\\item[WeatherDelay] 'integer'\n",
       "\\item[NASDelay] 'integer'\n",
       "\\item[SecurityDelay] 'integer'\n",
       "\\item[LateAircraftDelay] 'integer'\n",
       "\\end{description*}\n"
      ],
      "text/markdown": [
       "Year\n",
       ":   'integer'Month\n",
       ":   'integer'DayofMonth\n",
       ":   'integer'DayOfWeek\n",
       ":   'integer'DepTime\n",
       ":   'integer'CRSDepTime\n",
       ":   'integer'ArrTime\n",
       ":   'integer'CRSArrTime\n",
       ":   'integer'UniqueCarrier\n",
       ":   'character'FlightNum\n",
       ":   'integer'TailNum\n",
       ":   'character'ActualElapsedTime\n",
       ":   'integer'CRSElapsedTime\n",
       ":   'integer'AirTime\n",
       ":   'integer'ArrDelay\n",
       ":   'integer'DepDelay\n",
       ":   'integer'Origin\n",
       ":   'character'Dest\n",
       ":   'character'Distance\n",
       ":   'integer'TaxiIn\n",
       ":   'integer'TaxiOut\n",
       ":   'integer'Cancelled\n",
       ":   'integer'CancellationCode\n",
       ":   'character'Diverted\n",
       ":   'integer'CarrierDelay\n",
       ":   'integer'WeatherDelay\n",
       ":   'integer'NASDelay\n",
       ":   'integer'SecurityDelay\n",
       ":   'integer'LateAircraftDelay\n",
       ":   'integer'\n",
       "\n"
      ],
      "text/plain": [
       "             Year             Month        DayofMonth         DayOfWeek \n",
       "        \"integer\"         \"integer\"         \"integer\"         \"integer\" \n",
       "          DepTime        CRSDepTime           ArrTime        CRSArrTime \n",
       "        \"integer\"         \"integer\"         \"integer\"         \"integer\" \n",
       "    UniqueCarrier         FlightNum           TailNum ActualElapsedTime \n",
       "      \"character\"         \"integer\"       \"character\"         \"integer\" \n",
       "   CRSElapsedTime           AirTime          ArrDelay          DepDelay \n",
       "        \"integer\"         \"integer\"         \"integer\"         \"integer\" \n",
       "           Origin              Dest          Distance            TaxiIn \n",
       "      \"character\"       \"character\"         \"integer\"         \"integer\" \n",
       "          TaxiOut         Cancelled  CancellationCode          Diverted \n",
       "        \"integer\"         \"integer\"       \"character\"         \"integer\" \n",
       "     CarrierDelay      WeatherDelay          NASDelay     SecurityDelay \n",
       "        \"integer\"         \"integer\"         \"integer\"         \"integer\" \n",
       "LateAircraftDelay \n",
       "        \"integer\" "
      ]
     },
     "metadata": {},
     "output_type": "display_data"
    }
   ],
   "source": [
    "names(MyIndyOrigins)\n",
    "sapply(MyIndyOrigins, class)"
   ]
  },
  {
   "cell_type": "code",
   "execution_count": 22,
   "metadata": {
    "run_control": {
     "frozen": false,
     "read_only": false
    }
   },
   "outputs": [
    {
     "data": {
      "text/html": [
       "<ol class=list-inline>\n",
       "\t<li>1</li>\n",
       "\t<li>1</li>\n",
       "\t<li>1</li>\n",
       "\t<li>1</li>\n",
       "\t<li>1</li>\n",
       "\t<li>1</li>\n",
       "</ol>\n"
      ],
      "text/latex": [
       "\\begin{enumerate*}\n",
       "\\item 1\n",
       "\\item 1\n",
       "\\item 1\n",
       "\\item 1\n",
       "\\item 1\n",
       "\\item 1\n",
       "\\end{enumerate*}\n"
      ],
      "text/markdown": [
       "1. 1\n",
       "2. 1\n",
       "3. 1\n",
       "4. 1\n",
       "5. 1\n",
       "6. 1\n",
       "\n",
       "\n"
      ],
      "text/plain": [
       "[1] 1 1 1 1 1 1"
      ]
     },
     "metadata": {},
     "output_type": "display_data"
    }
   ],
   "source": [
    "head(MyIndyOrigins$Month)"
   ]
  },
  {
   "cell_type": "code",
   "execution_count": 23,
   "metadata": {
    "run_control": {
     "frozen": false,
     "read_only": false
    }
   },
   "outputs": [
    {
     "data": {
      "text/html": [
       "<ol class=list-inline>\n",
       "\t<li>12</li>\n",
       "\t<li>12</li>\n",
       "\t<li>12</li>\n",
       "\t<li>12</li>\n",
       "\t<li>12</li>\n",
       "\t<li>12</li>\n",
       "</ol>\n"
      ],
      "text/latex": [
       "\\begin{enumerate*}\n",
       "\\item 12\n",
       "\\item 12\n",
       "\\item 12\n",
       "\\item 12\n",
       "\\item 12\n",
       "\\item 12\n",
       "\\end{enumerate*}\n"
      ],
      "text/markdown": [
       "1. 12\n",
       "2. 12\n",
       "3. 12\n",
       "4. 12\n",
       "5. 12\n",
       "6. 12\n",
       "\n",
       "\n"
      ],
      "text/plain": [
       "[1] 12 12 12 12 12 12"
      ]
     },
     "metadata": {},
     "output_type": "display_data"
    }
   ],
   "source": [
    "tail(MyIndyOrigins$Month)"
   ]
  },
  {
   "cell_type": "code",
   "execution_count": 24,
   "metadata": {
    "run_control": {
     "frozen": false,
     "read_only": false
    }
   },
   "outputs": [
    {
     "data": {
      "text/plain": [
       "\n",
       "   1    2    3    4    5    6    7    8    9   10   11   12 \n",
       "3580 3414 3764 3644 3768 3852 3986 3700 3300 3418 3126 3198 "
      ]
     },
     "metadata": {},
     "output_type": "display_data"
    }
   ],
   "source": [
    "table(MyIndyOrigins$Month)"
   ]
  },
  {
   "cell_type": "code",
   "execution_count": 25,
   "metadata": {
    "run_control": {
     "frozen": false,
     "read_only": false
    }
   },
   "outputs": [
    {
     "data": {
      "image/png": "[encoded data removed]",
      "text/plain": [
       "plot without title"
      ]
     },
     "metadata": {},
     "output_type": "display_data"
    }
   ],
   "source": [
    "plot(table(MyIndyOrigins$Month))"
   ]
  },
  {
   "cell_type": "code",
   "execution_count": 26,
   "metadata": {
    "run_control": {
     "frozen": false,
     "read_only": false
    }
   },
   "outputs": [
    {
     "data": {
      "text/plain": [
       "\n",
       "   1    2    3    4    5    6    7    8    9   10   11   12 \n",
       "3582 3413 3764 3642 3765 3857 3985 3696 3294 3418 3125 3191 "
      ]
     },
     "metadata": {},
     "output_type": "display_data"
    },
    {
     "data": {
      "image/png": "[encoded data removed]",
      "text/plain": [
       "plot without title"
      ]
     },
     "metadata": {},
     "output_type": "display_data"
    }
   ],
   "source": [
    "table(IndianapolisDestinations$Month)\n",
    "plot(table(IndianapolisDestinations$Month))"
   ]
  },
  {
   "cell_type": "code",
   "execution_count": 27,
   "metadata": {
    "run_control": {
     "frozen": false,
     "read_only": false
    }
   },
   "outputs": [
    {
     "data": {
      "text/html": [
       "10"
      ],
      "text/latex": [
       "10"
      ],
      "text/markdown": [
       "10"
      ],
      "text/plain": [
       "[1] 10"
      ]
     },
     "metadata": {},
     "output_type": "display_data"
    }
   ],
   "source": [
    "# How many flights departed from TUP in 2008?\n",
    "sum(myDF$Origin == \"TUP\")"
   ]
  },
  {
   "cell_type": "code",
   "execution_count": 28,
   "metadata": {
    "run_control": {
     "frozen": false,
     "read_only": false
    }
   },
   "outputs": [
    {
     "data": {
      "text/html": [
       "-3.8"
      ],
      "text/latex": [
       "-3.8"
      ],
      "text/markdown": [
       "-3.8"
      ],
      "text/plain": [
       "[1] -3.8"
      ]
     },
     "metadata": {},
     "output_type": "display_data"
    }
   ],
   "source": [
    "# What is the average departure delay of the flights that depart from TUP in 2008?\n",
    "mean(subset(myDF$DepDelay,myDF$Origin == \"TUP\"))       \n"
   ]
  },
  {
   "cell_type": "code",
   "execution_count": 29,
   "metadata": {
    "run_control": {
     "frozen": false,
     "read_only": false
    }
   },
   "outputs": [
    {
     "data": {
      "text/html": [
       "<table>\n",
       "<thead><tr><th scope=col>Year</th><th scope=col>Month</th><th scope=col>DayofMonth</th><th scope=col>DayOfWeek</th><th scope=col>DepTime</th><th scope=col>CRSDepTime</th><th scope=col>ArrTime</th><th scope=col>CRSArrTime</th><th scope=col>UniqueCarrier</th><th scope=col>FlightNum</th><th scope=col>...</th><th scope=col>TaxiIn</th><th scope=col>TaxiOut</th><th scope=col>Cancelled</th><th scope=col>CancellationCode</th><th scope=col>Diverted</th><th scope=col>CarrierDelay</th><th scope=col>WeatherDelay</th><th scope=col>NASDelay</th><th scope=col>SecurityDelay</th><th scope=col>LateAircraftDelay</th></tr></thead>\n",
       "<tbody>\n",
       "\t<tr><td>2008</td><td>1   </td><td>3   </td><td>4   </td><td> 628</td><td> 620</td><td> 804</td><td> 750</td><td>WN  </td><td> 448</td><td>... </td><td>3   </td><td>17  </td><td>0   </td><td>    </td><td>0   </td><td>NA  </td><td>NA  </td><td>NA  </td><td>NA  </td><td>NA  </td></tr>\n",
       "\t<tr><td>2008</td><td>1   </td><td>3   </td><td>4   </td><td> 926</td><td> 930</td><td>1054</td><td>1100</td><td>WN  </td><td>1746</td><td>... </td><td>3   </td><td> 7  </td><td>0   </td><td>    </td><td>0   </td><td>NA  </td><td>NA  </td><td>NA  </td><td>NA  </td><td>NA  </td></tr>\n",
       "\t<tr><td>2008</td><td>1   </td><td>3   </td><td>4   </td><td>1829</td><td>1755</td><td>1959</td><td>1925</td><td>WN  </td><td>3920</td><td>... </td><td>3   </td><td>10  </td><td>0   </td><td>    </td><td>0   </td><td> 2  </td><td> 0  </td><td> 0  </td><td> 0  </td><td>32  </td></tr>\n",
       "\t<tr><td>2008</td><td>1   </td><td>3   </td><td>4   </td><td>1940</td><td>1915</td><td>2121</td><td>2110</td><td>WN  </td><td> 378</td><td>... </td><td>4   </td><td>10  </td><td>0   </td><td>    </td><td>0   </td><td>NA  </td><td>NA  </td><td>NA  </td><td>NA  </td><td>NA  </td></tr>\n",
       "\t<tr><td>2008</td><td>1   </td><td>3   </td><td>4   </td><td>1937</td><td>1830</td><td>2037</td><td>1940</td><td>WN  </td><td> 509</td><td>... </td><td>3   </td><td> 7  </td><td>0   </td><td>    </td><td>0   </td><td>10  </td><td> 0  </td><td> 0  </td><td> 0  </td><td>47  </td></tr>\n",
       "\t<tr><td>2008</td><td>1   </td><td>3   </td><td>4   </td><td>1039</td><td>1040</td><td>1132</td><td>1150</td><td>WN  </td><td> 535</td><td>... </td><td>7   </td><td> 7  </td><td>0   </td><td>    </td><td>0   </td><td>NA  </td><td>NA  </td><td>NA  </td><td>NA  </td><td>NA  </td></tr>\n",
       "</tbody>\n",
       "</table>\n"
      ],
      "text/latex": [
       "\\begin{tabular}{r|lllllllllllllllllllllllllllll}\n",
       " Year & Month & DayofMonth & DayOfWeek & DepTime & CRSDepTime & ArrTime & CRSArrTime & UniqueCarrier & FlightNum & ... & TaxiIn & TaxiOut & Cancelled & CancellationCode & Diverted & CarrierDelay & WeatherDelay & NASDelay & SecurityDelay & LateAircraftDelay\\\\\n",
       "\\hline\n",
       "\t 2008 & 1    & 3    & 4    &  628 &  620 &  804 &  750 & WN   &  448 & ...  & 3    & 17   & 0    &      & 0    & NA   & NA   & NA   & NA   & NA  \\\\\n",
       "\t 2008 & 1    & 3    & 4    &  926 &  930 & 1054 & 1100 & WN   & 1746 & ...  & 3    &  7   & 0    &      & 0    & NA   & NA   & NA   & NA   & NA  \\\\\n",
       "\t 2008 & 1    & 3    & 4    & 1829 & 1755 & 1959 & 1925 & WN   & 3920 & ...  & 3    & 10   & 0    &      & 0    &  2   &  0   &  0   &  0   & 32  \\\\\n",
       "\t 2008 & 1    & 3    & 4    & 1940 & 1915 & 2121 & 2110 & WN   &  378 & ...  & 4    & 10   & 0    &      & 0    & NA   & NA   & NA   & NA   & NA  \\\\\n",
       "\t 2008 & 1    & 3    & 4    & 1937 & 1830 & 2037 & 1940 & WN   &  509 & ...  & 3    &  7   & 0    &      & 0    & 10   &  0   &  0   &  0   & 47  \\\\\n",
       "\t 2008 & 1    & 3    & 4    & 1039 & 1040 & 1132 & 1150 & WN   &  535 & ...  & 7    &  7   & 0    &      & 0    & NA   & NA   & NA   & NA   & NA  \\\\\n",
       "\\end{tabular}\n"
      ],
      "text/markdown": [
       "\n",
       "Year | Month | DayofMonth | DayOfWeek | DepTime | CRSDepTime | ArrTime | CRSArrTime | UniqueCarrier | FlightNum | ... | TaxiIn | TaxiOut | Cancelled | CancellationCode | Diverted | CarrierDelay | WeatherDelay | NASDelay | SecurityDelay | LateAircraftDelay | \n",
       "|---|---|---|---|---|---|\n",
       "| 2008 | 1    | 3    | 4    |  628 |  620 |  804 |  750 | WN   |  448 | ...  | 3    | 17   | 0    |      | 0    | NA   | NA   | NA   | NA   | NA   | \n",
       "| 2008 | 1    | 3    | 4    |  926 |  930 | 1054 | 1100 | WN   | 1746 | ...  | 3    |  7   | 0    |      | 0    | NA   | NA   | NA   | NA   | NA   | \n",
       "| 2008 | 1    | 3    | 4    | 1829 | 1755 | 1959 | 1925 | WN   | 3920 | ...  | 3    | 10   | 0    |      | 0    |  2   |  0   |  0   |  0   | 32   | \n",
       "| 2008 | 1    | 3    | 4    | 1940 | 1915 | 2121 | 2110 | WN   |  378 | ...  | 4    | 10   | 0    |      | 0    | NA   | NA   | NA   | NA   | NA   | \n",
       "| 2008 | 1    | 3    | 4    | 1937 | 1830 | 2037 | 1940 | WN   |  509 | ...  | 3    |  7   | 0    |      | 0    | 10   |  0   |  0   |  0   | 47   | \n",
       "| 2008 | 1    | 3    | 4    | 1039 | 1040 | 1132 | 1150 | WN   |  535 | ...  | 7    |  7   | 0    |      | 0    | NA   | NA   | NA   | NA   | NA   | \n",
       "\n",
       "\n"
      ],
      "text/plain": [
       "  Year Month DayofMonth DayOfWeek DepTime CRSDepTime ArrTime CRSArrTime\n",
       "1 2008 1     3          4          628     620        804     750      \n",
       "2 2008 1     3          4          926     930       1054    1100      \n",
       "3 2008 1     3          4         1829    1755       1959    1925      \n",
       "4 2008 1     3          4         1940    1915       2121    2110      \n",
       "5 2008 1     3          4         1937    1830       2037    1940      \n",
       "6 2008 1     3          4         1039    1040       1132    1150      \n",
       "  UniqueCarrier FlightNum ... TaxiIn TaxiOut Cancelled CancellationCode\n",
       "1 WN             448      ... 3      17      0                         \n",
       "2 WN            1746      ... 3       7      0                         \n",
       "3 WN            3920      ... 3      10      0                         \n",
       "4 WN             378      ... 4      10      0                         \n",
       "5 WN             509      ... 3       7      0                         \n",
       "6 WN             535      ... 7       7      0                         \n",
       "  Diverted CarrierDelay WeatherDelay NASDelay SecurityDelay LateAircraftDelay\n",
       "1 0        NA           NA           NA       NA            NA               \n",
       "2 0        NA           NA           NA       NA            NA               \n",
       "3 0         2            0            0        0            32               \n",
       "4 0        NA           NA           NA       NA            NA               \n",
       "5 0        10            0            0        0            47               \n",
       "6 0        NA           NA           NA       NA            NA               "
      ]
     },
     "metadata": {},
     "output_type": "display_data"
    }
   ],
   "source": [
    "head(MyIndyOrigins)"
   ]
  },
  {
   "cell_type": "code",
   "execution_count": 30,
   "metadata": {
    "run_control": {
     "frozen": false,
     "read_only": false
    }
   },
   "outputs": [
    {
     "data": {
      "text/html": [
       "<ol class=list-inline>\n",
       "\t<li>FALSE</li>\n",
       "\t<li>FALSE</li>\n",
       "\t<li>FALSE</li>\n",
       "\t<li>FALSE</li>\n",
       "\t<li>FALSE</li>\n",
       "\t<li>FALSE</li>\n",
       "</ol>\n"
      ],
      "text/latex": [
       "\\begin{enumerate*}\n",
       "\\item FALSE\n",
       "\\item FALSE\n",
       "\\item FALSE\n",
       "\\item FALSE\n",
       "\\item FALSE\n",
       "\\item FALSE\n",
       "\\end{enumerate*}\n"
      ],
      "text/markdown": [
       "1. FALSE\n",
       "2. FALSE\n",
       "3. FALSE\n",
       "4. FALSE\n",
       "5. FALSE\n",
       "6. FALSE\n",
       "\n",
       "\n"
      ],
      "text/plain": [
       "[1] FALSE FALSE FALSE FALSE FALSE FALSE"
      ]
     },
     "metadata": {},
     "output_type": "display_data"
    },
    {
     "data": {
      "text/html": [
       "<ol class=list-inline>\n",
       "\t<li>TRUE</li>\n",
       "\t<li>TRUE</li>\n",
       "\t<li>FALSE</li>\n",
       "\t<li>FALSE</li>\n",
       "\t<li>FALSE</li>\n",
       "\t<li>FALSE</li>\n",
       "</ol>\n"
      ],
      "text/latex": [
       "\\begin{enumerate*}\n",
       "\\item TRUE\n",
       "\\item TRUE\n",
       "\\item FALSE\n",
       "\\item FALSE\n",
       "\\item FALSE\n",
       "\\item FALSE\n",
       "\\end{enumerate*}\n"
      ],
      "text/markdown": [
       "1. TRUE\n",
       "2. TRUE\n",
       "3. FALSE\n",
       "4. FALSE\n",
       "5. FALSE\n",
       "6. FALSE\n",
       "\n",
       "\n"
      ],
      "text/plain": [
       "[1]  TRUE  TRUE FALSE FALSE FALSE FALSE"
      ]
     },
     "metadata": {},
     "output_type": "display_data"
    }
   ],
   "source": [
    "# DepTime\n",
    "head(MyIndyOrigins$DepTime < 600)\n",
    "head(MyIndyOrigins$DepTime < 1000)"
   ]
  },
  {
   "cell_type": "code",
   "execution_count": 31,
   "metadata": {
    "run_control": {
     "frozen": false,
     "read_only": false
    },
    "scrolled": true
   },
   "outputs": [
    {
     "data": {
      "text/html": [
       "692"
      ],
      "text/latex": [
       "692"
      ],
      "text/markdown": [
       "692"
      ],
      "text/plain": [
       "[1] 692"
      ]
     },
     "metadata": {},
     "output_type": "display_data"
    }
   ],
   "source": [
    "sum(MyIndyOrigins$DepTime < 600, na.rm =TRUE) # early morning departed before 6 AM\n"
   ]
  },
  {
   "cell_type": "code",
   "execution_count": 32,
   "metadata": {
    "run_control": {
     "frozen": false,
     "read_only": false
    }
   },
   "outputs": [
    {
     "data": {
      "text/html": [
       "18705"
      ],
      "text/latex": [
       "18705"
      ],
      "text/markdown": [
       "18705"
      ],
      "text/plain": [
       "[1] 18705"
      ]
     },
     "metadata": {},
     "output_type": "display_data"
    },
    {
     "data": {
      "text/html": [
       "23738"
      ],
      "text/latex": [
       "23738"
      ],
      "text/markdown": [
       "23738"
      ],
      "text/plain": [
       "[1] 23738"
      ]
     },
     "metadata": {},
     "output_type": "display_data"
    },
    {
     "data": {
      "text/html": [
       "42011"
      ],
      "text/latex": [
       "42011"
      ],
      "text/markdown": [
       "42011"
      ],
      "text/plain": [
       "[1] 42011"
      ]
     },
     "metadata": {},
     "output_type": "display_data"
    }
   ],
   "source": [
    "sum(MyIndyOrigins$DepTime < 1200, na.rm =TRUE)\n",
    "sum(MyIndyOrigins$DepTime < 1400, na.rm =TRUE)\n",
    "sum(MyIndyOrigins$DepTime < 2400, na.rm =TRUE) "
   ]
  },
  {
   "cell_type": "code",
   "execution_count": 33,
   "metadata": {
    "run_control": {
     "frozen": false,
     "read_only": false
    }
   },
   "outputs": [
    {
     "data": {
      "text/html": [
       "739"
      ],
      "text/latex": [
       "739"
      ],
      "text/markdown": [
       "739"
      ],
      "text/plain": [
       "[1] 739"
      ]
     },
     "metadata": {},
     "output_type": "display_data"
    }
   ],
   "source": [
    "sum(is.na(MyIndyOrigins$DepTime))"
   ]
  },
  {
   "cell_type": "code",
   "execution_count": 34,
   "metadata": {
    "run_control": {
     "frozen": false,
     "read_only": false
    }
   },
   "outputs": [
    {
     "data": {
      "text/html": [
       "42750"
      ],
      "text/latex": [
       "42750"
      ],
      "text/markdown": [
       "42750"
      ],
      "text/plain": [
       "[1] 42750"
      ]
     },
     "metadata": {},
     "output_type": "display_data"
    }
   ],
   "source": [
    "42011 + 739 # check whether total is equal to MyIndyOrigins or not  "
   ]
  },
  {
   "cell_type": "code",
   "execution_count": 35,
   "metadata": {
    "run_control": {
     "frozen": false,
     "read_only": false
    }
   },
   "outputs": [
    {
     "data": {
      "text/html": [
       "215685"
      ],
      "text/latex": [
       "215685"
      ],
      "text/markdown": [
       "215685"
      ],
      "text/plain": [
       "[1] 215685"
      ]
     },
     "metadata": {},
     "output_type": "display_data"
    }
   ],
   "source": [
    " #How many flights arrived at LAX in 2008?\n",
    "sum(myDF$Dest == \"LAX\")"
   ]
  },
  {
   "cell_type": "code",
   "execution_count": 36,
   "metadata": {
    "run_control": {
     "frozen": false,
     "read_only": false
    }
   },
   "outputs": [
    {
     "data": {
      "text/html": [
       "5406"
      ],
      "text/latex": [
       "5406"
      ],
      "text/markdown": [
       "5406"
      ],
      "text/plain": [
       "[1] 5406"
      ]
     },
     "metadata": {},
     "output_type": "display_data"
    }
   ],
   "source": [
    "# How many flights departed from ATL and landed at LAX in 2008?\n",
    "sum(myDF$Origin == \"ATL\" & myDF$Dest == \"LAX\")"
   ]
  },
  {
   "cell_type": "code",
   "execution_count": 37,
   "metadata": {
    "run_control": {
     "frozen": false,
     "read_only": false
    },
    "scrolled": true
   },
   "outputs": [
    {
     "data": {
      "text/html": [
       "2133"
      ],
      "text/latex": [
       "2133"
      ],
      "text/markdown": [
       "2133"
      ],
      "text/plain": [
       "[1] 2133"
      ]
     },
     "metadata": {},
     "output_type": "display_data"
    }
   ],
   "source": [
    "#Among the flights from ATL to LAX in 2008, how many departed before 12 noon?\n",
    "sum(myDF$Origin == \"ATL\" & myDF$Dest == \"LAX\" & myDF$DepTime < 1200, na.rm= TRUE)"
   ]
  },
  {
   "cell_type": "code",
   "execution_count": 38,
   "metadata": {
    "run_control": {
     "frozen": false,
     "read_only": false
    }
   },
   "outputs": [
    {
     "data": {
      "text/plain": [
       "\n",
       "   ABE    ABI    ABQ    ABY    ACK    ACT    ACV    ACY    ADK    ADQ    AEX \n",
       "  4807   2660  41146   1095    457   1993   3714    116    102    706   2330 \n",
       "   AGS    AKN    ALB    ALO    AMA    ANC    ASE    ATL    ATW    AUS    AVL \n",
       "  2403    116  13474    323   7496  19327   5307 414513   5873  49623   4399 \n",
       "   AVP    AZO    BDL    BET    BFL    BGM    BGR    BHM    BIL    BIS    BJI \n",
       "  2386   3924  29449   1035   4502    728   2879  23679   4505   2293     74 \n",
       "   BLI    BMI    BNA    BOI    BOS    BPT    BQK    BQN    BRO    BRW    BTM \n",
       "   120   4801  57539  17024 117915    276    925   1519   1464    728    708 \n",
       "   BTR    BTV    BUF    BUR    BWI    BZN    CAE    CAK    CDC    CDV    CEC \n",
       "  8941   7005  26281  31405 104074   4659  10550   8994    668    725   1063 \n",
       "   CHA    CHO    CHS    CIC    CID    CLD    CLE    CLL    CLT    CMH    CMI \n",
       "  4571    823  14181   1392   9377   2303  65795   1367 126045  34157   2774 \n",
       "   CMX    COD    COS    CPR    CRP    CRW    CSG    CVG    CWA    DAB    DAL \n",
       "   318   1188  16201   2709   5270   3414   1481  91265   2563   2957  53928 \n",
       "   DAY    DBQ    DCA    DEN    DFW    DHN    DLG    DLH    DRO    DSM    DTW \n",
       " 15791   1349  86662 241443 281281   1397    116   2013   3674  16643 161989 \n",
       "   EGE    EKO    ELM    ELP    ERI    EUG    EVV    EWN    EWR    EYW    FAI \n",
       "  3106   1580   1336  20731   1399   5749   5844    791 138506   1009   4822 \n",
       "   FAR    FAT    FAY    FCA    FLG    FLL    FLO    FNT    FSD    FSM    FWA \n",
       "  4431  14278   2267   2762   1871  67177    615   8749   5828   2937   6144 \n",
       "   GCC    GEG    GFK    GGG    GJT    GNV    GPT    GRB    GRK    GRR    GSO \n",
       "  1046  15560   1371    978   5152   2064   8541   7930   3733  16616  13558 \n",
       "   GSP    GST    GTF    GTR    GUC    HDN    HHH    HLN    HNL    HOU    HPN \n",
       " 11856     85   2140    964    959   2398    836   1986  56276  55933  10715 \n",
       "   HRL    HSV    HTS    IAD    IAH    ICT    IDA    ILM    IND    INL    IPL \n",
       "  4421  10791    158  76031 185172  14050   3103   3397  42750     72    989 \n",
       "   ISP    ITH    ITO    IYK    JAC    JAN    JAX    JFK    JNU    KOA    KTN \n",
       " 10183    132   8051    958   3766  12609  32685 118804   4410  12710   2380 \n",
       "   LAN    LAS    LAW    LAX    LBB    LCH    LEX    LFT    LGA    LGB    LIH \n",
       "  3693 172876   2369 215608   8249   1000  10344   4879 119135  15443  13184 \n",
       "   LIT    LMT    LNK    LRD    LSE    LWB    LWS    LYH    MAF    MBS    MCI \n",
       " 15369    511   3037   2115   2005    185    652    625   6839   2918  59370 \n",
       "   MCN    MCO    MDT    MDW    MEI    MEM    MFE    MFR    MGM    MHT    MIA \n",
       "   652 130872   7594  87619    674  80966   4116   5652   3851  18588  62559 \n",
       "   MKE    MKG    MLB    MLI    MLU    MOB    MOD    MOT    MQT    MRY    MSN \n",
       " 42700    396   2002   8567   2530   6348   2325   1085    991   7607  13961 \n",
       "   MSO    MSP    MSY    MTJ    MYR    OAJ    OAK    OGG    OKC    OMA    OME \n",
       "  3256 130289  39422   2419   5335   1184  62535  19940  25152  27007   1090 \n",
       "   ONT    ORD    ORF    OTH    OTZ    OXR    PBI    PDX    PFN    PHF    PHL \n",
       " 35072 350380  16458    515   1086   1292  27822  57860   3875   6406 100499 \n",
       "   PHX    PIA    PIH    PIR    PIT    PLN    PMD    PNS    PSC    PSE    PSG \n",
       "199408   5581   1659      5  41800    264    728   9497   2541    755    727 \n",
       "   PSP    PUB    PVD    PWM    RAP    RDD    RDM    RDU    RFD    RHI    RIC \n",
       " 11979      2  22509   6897   4161   1682   3434  60179    290    221  19977 \n",
       "   RKS    RNO    ROA    ROC    ROW    RST    RSW    SAN    SAT    SAV    SBA \n",
       "   954  24286   3720  14264    961   3353  27136  93775  45270  13774  12568 \n",
       "   SBN    SBP    SCC    SCE    SDF    SEA    SFO    SGF    SGU    SHV    SIT \n",
       "  5319   5846    727    645  22458 109069 140587  10087   3319   8079   1332 \n",
       "   SJC    SJT    SJU    SLC    SLE    SMF    SMX    SNA    SPI    SPS    SRQ \n",
       " 57136   1316  21676 139088    486  53056   1681  47376   1225   1834   6432 \n",
       "   STL    STT    STX    SUN    SUX    SWF    SYR    TEX    TLH    TOL    TPA \n",
       " 62733   2972    436   2871    122   4249  12032    194   5912   1478  78179 \n",
       "   TRI    TUL    TUP    TUS    TVC    TWF    TXK    TYR    TYS    VLD    VPS \n",
       "  2117  23459     10  26661   4262   1813   1250   1585  14004    938   6820 \n",
       "   WRG    WYS    XNA    YAK    YKM    YUM \n",
       "   727    264  14112    725    340   3871 "
      ]
     },
     "metadata": {},
     "output_type": "display_data"
    }
   ],
   "source": [
    "table(myDF$Origin)   "
   ]
  },
  {
   "cell_type": "code",
   "execution_count": 39,
   "metadata": {
    "run_control": {
     "frozen": false,
     "read_only": false
    }
   },
   "outputs": [
    {
     "data": {
      "text/plain": [
       "\n",
       "   PUB    PIR    TUP    INL    BJI    GST    ADK    ACY    AKN    DLG    BLI \n",
       "     2      5     10     72     74     85    102    116    116    116    120 \n",
       "   SUX    ITH    HTS    LWB    TEX    RHI    PLN    WYS    BPT    RFD    CMX \n",
       "   122    132    158    185    194    221    264    264    276    290    318 \n",
       "   ALO    YKM    MKG    STX    ACK    SLE    LMT    OTH    FLO    LYH    SCE \n",
       "   323    340    396    436    457    486    511    515    615    625    645 \n",
       "   LWS    MCN    CDC    MEI    ADQ    BTM    CDV    YAK    PSG    SCC    WRG \n",
       "   652    652    668    674    706    708    725    725    727    727    727 \n",
       "   BGM    BRW    PMD    PSE    EWN    CHO    HHH    BQK    VLD    RKS    IYK \n",
       "   728    728    728    755    791    823    836    925    938    954    958 \n",
       "   GUC    ROW    GTR    GGG    IPL    MQT    LCH    EYW    BET    GCC    CEC \n",
       "   959    961    964    978    989    991   1000   1009   1035   1046   1063 \n",
       "   MOT    OTZ    OME    ABY    OAJ    COD    SPI    TXK    OXR    SJT    SIT \n",
       "  1085   1086   1090   1095   1184   1188   1225   1250   1292   1316   1332 \n",
       "   ELM    DBQ    CLL    GFK    CIC    DHN    ERI    BRO    TOL    CSG    BQN \n",
       "  1336   1349   1367   1371   1392   1397   1399   1464   1478   1481   1519 \n",
       "   EKO    TYR    PIH    SMX    RDD    TWF    SPS    FLG    HLN    ACT    MLB \n",
       "  1580   1585   1659   1681   1682   1813   1834   1871   1986   1993   2002 \n",
       "   LSE    DLH    GNV    LRD    TRI    GTF    FAY    BIS    CLD    MOD    AEX \n",
       "  2005   2013   2064   2115   2117   2140   2267   2293   2303   2325   2330 \n",
       "   LAW    KTN    AVP    HDN    AGS    MTJ    MLU    PSC    CWA    ABI    CPR \n",
       "  2369   2380   2386   2398   2403   2419   2530   2541   2563   2660   2709 \n",
       "   FCA    CMI    SUN    BGR    MBS    FSM    DAB    STT    LNK    IDA    EGE \n",
       "  2762   2774   2871   2879   2918   2937   2957   2972   3037   3103   3106 \n",
       "   MSO    SGU    RST    ILM    CRW    RDM    DRO    LAN    ACV    ROA    GRK \n",
       "  3256   3319   3353   3397   3414   3434   3674   3693   3714   3720   3733 \n",
       "   JAC    MGM    YUM    PFN    AZO    MFE    RAP    SWF    TVC    AVL    JNU \n",
       "  3766   3851   3871   3875   3924   4116   4161   4249   4262   4399   4410 \n",
       "   HRL    FAR    BFL    BIL    CHA    BZN    BMI    ABE    FAI    LFT    GJT \n",
       "  4421   4431   4502   4505   4571   4659   4801   4807   4822   4879   5152 \n",
       "   CRP    ASE    SBN    MYR    PIA    MFR    EUG    FSD    EVV    SBP    ATW \n",
       "  5270   5307   5319   5335   5581   5652   5749   5828   5844   5846   5873 \n",
       "   TLH    FWA    MOB    PHF    SRQ    VPS    MAF    PWM    BTV    AMA    MDT \n",
       "  5912   6144   6348   6406   6432   6820   6839   6897   7005   7496   7594 \n",
       "   MRY    GRB    ITO    SHV    LBB    GPT    MLI    FNT    BTR    CAK    CID \n",
       "  7607   7930   8051   8079   8249   8541   8567   8749   8941   8994   9377 \n",
       "   PNS    SGF    ISP    LEX    CAE    HPN    HSV    GSP    PSP    SYR    SBA \n",
       "  9497  10087  10183  10344  10550  10715  10791  11856  11979  12032  12568 \n",
       "   JAN    KOA    LIH    ALB    GSO    SAV    MSN    TYS    ICT    XNA    CHS \n",
       " 12609  12710  13184  13474  13558  13774  13961  14004  14050  14112  14181 \n",
       "   ROC    FAT    LIT    LGB    GEG    DAY    COS    ORF    GRR    DSM    BOI \n",
       " 14264  14278  15369  15443  15560  15791  16201  16458  16616  16643  17024 \n",
       "   MHT    ANC    OGG    RIC    ELP    SJU    SDF    PVD    TUL    BHM    RNO \n",
       " 18588  19327  19940  19977  20731  21676  22458  22509  23459  23679  24286 \n",
       "   OKC    BUF    TUS    OMA    RSW    PBI    BDL    BUR    JAX    CMH    ONT \n",
       " 25152  26281  26661  27007  27136  27822  29449  31405  32685  34157  35072 \n",
       "   MSY    ABQ    PIT    MKE    IND    SAT    SNA    AUS    SMF    DAL    HOU \n",
       " 39422  41146  41800  42700  42750  45270  47376  49623  53056  53928  55933 \n",
       "   HNL    SJC    BNA    PDX    MCI    RDU    OAK    MIA    STL    CLE    FLL \n",
       " 56276  57136  57539  57860  59370  60179  62535  62559  62733  65795  67177 \n",
       "   IAD    TPA    MEM    DCA    MDW    CVG    SAN    PHL    BWI    SEA    BOS \n",
       " 76031  78179  80966  86662  87619  91265  93775 100499 104074 109069 117915 \n",
       "   JFK    LGA    CLT    MSP    MCO    EWR    SLC    SFO    DTW    LAS    IAH \n",
       "118804 119135 126045 130289 130872 138506 139088 140587 161989 172876 185172 \n",
       "   PHX    LAX    DEN    DFW    ORD    ATL \n",
       "199408 215608 241443 281281 350380 414513 "
      ]
     },
     "metadata": {},
     "output_type": "display_data"
    }
   ],
   "source": [
    "sort(table(myDF$Origin))"
   ]
  },
  {
   "cell_type": "code",
   "execution_count": 40,
   "metadata": {
    "run_control": {
     "frozen": false,
     "read_only": false
    }
   },
   "outputs": [
    {
     "data": {
      "text/html": [
       "<ol class=list-inline>\n",
       "\t<li>2003</li>\n",
       "\t<li>754</li>\n",
       "\t<li>628</li>\n",
       "\t<li>926</li>\n",
       "\t<li>1829</li>\n",
       "\t<li>1940</li>\n",
       "</ol>\n"
      ],
      "text/latex": [
       "\\begin{enumerate*}\n",
       "\\item 2003\n",
       "\\item 754\n",
       "\\item 628\n",
       "\\item 926\n",
       "\\item 1829\n",
       "\\item 1940\n",
       "\\end{enumerate*}\n"
      ],
      "text/markdown": [
       "1. 2003\n",
       "2. 754\n",
       "3. 628\n",
       "4. 926\n",
       "5. 1829\n",
       "6. 1940\n",
       "\n",
       "\n"
      ],
      "text/plain": [
       "[1] 2003  754  628  926 1829 1940"
      ]
     },
     "metadata": {},
     "output_type": "display_data"
    }
   ],
   "source": [
    "head(myDF$DepTime)"
   ]
  },
  {
   "cell_type": "code",
   "execution_count": 41,
   "metadata": {
    "run_control": {
     "frozen": false,
     "read_only": false
    }
   },
   "outputs": [
    {
     "data": {
      "text/html": [
       "<ol class=list-inline>\n",
       "\t<li>0</li>\n",
       "\t<li>100</li>\n",
       "\t<li>200</li>\n",
       "\t<li>300</li>\n",
       "\t<li>400</li>\n",
       "\t<li>500</li>\n",
       "\t<li>600</li>\n",
       "\t<li>700</li>\n",
       "\t<li>800</li>\n",
       "\t<li>900</li>\n",
       "\t<li>1000</li>\n",
       "\t<li>1100</li>\n",
       "\t<li>1200</li>\n",
       "\t<li>1300</li>\n",
       "\t<li>1400</li>\n",
       "\t<li>1500</li>\n",
       "\t<li>1600</li>\n",
       "\t<li>1700</li>\n",
       "\t<li>1800</li>\n",
       "\t<li>1900</li>\n",
       "\t<li>2000</li>\n",
       "\t<li>2100</li>\n",
       "\t<li>2200</li>\n",
       "\t<li>2300</li>\n",
       "\t<li>2400</li>\n",
       "</ol>\n"
      ],
      "text/latex": [
       "\\begin{enumerate*}\n",
       "\\item 0\n",
       "\\item 100\n",
       "\\item 200\n",
       "\\item 300\n",
       "\\item 400\n",
       "\\item 500\n",
       "\\item 600\n",
       "\\item 700\n",
       "\\item 800\n",
       "\\item 900\n",
       "\\item 1000\n",
       "\\item 1100\n",
       "\\item 1200\n",
       "\\item 1300\n",
       "\\item 1400\n",
       "\\item 1500\n",
       "\\item 1600\n",
       "\\item 1700\n",
       "\\item 1800\n",
       "\\item 1900\n",
       "\\item 2000\n",
       "\\item 2100\n",
       "\\item 2200\n",
       "\\item 2300\n",
       "\\item 2400\n",
       "\\end{enumerate*}\n"
      ],
      "text/markdown": [
       "1. 0\n",
       "2. 100\n",
       "3. 200\n",
       "4. 300\n",
       "5. 400\n",
       "6. 500\n",
       "7. 600\n",
       "8. 700\n",
       "9. 800\n",
       "10. 900\n",
       "11. 1000\n",
       "12. 1100\n",
       "13. 1200\n",
       "14. 1300\n",
       "15. 1400\n",
       "16. 1500\n",
       "17. 1600\n",
       "18. 1700\n",
       "19. 1800\n",
       "20. 1900\n",
       "21. 2000\n",
       "22. 2100\n",
       "23. 2200\n",
       "24. 2300\n",
       "25. 2400\n",
       "\n",
       "\n"
      ],
      "text/plain": [
       " [1]    0  100  200  300  400  500  600  700  800  900 1000 1100 1200 1300 1400\n",
       "[16] 1500 1600 1700 1800 1900 2000 2100 2200 2300 2400"
      ]
     },
     "metadata": {},
     "output_type": "display_data"
    }
   ],
   "source": [
    "seq(0, 2400, by = 100)"
   ]
  },
  {
   "cell_type": "code",
   "execution_count": 42,
   "metadata": {
    "run_control": {
     "frozen": false,
     "read_only": false
    }
   },
   "outputs": [
    {
     "data": {
      "image/png": "[encoded data removed]",
      "text/plain": [
       "plot without title"
      ]
     },
     "metadata": {},
     "output_type": "display_data"
    }
   ],
   "source": [
    "plot(table(cut(myDF$DepTime, breaks = seq(0, 2400, by = 100))))"
   ]
  },
  {
   "cell_type": "code",
   "execution_count": 43,
   "metadata": {
    "run_control": {
     "frozen": false,
     "read_only": false
    }
   },
   "outputs": [
    {
     "data": {
      "text/plain": [
       "\n",
       "   ABE    ABI    ABQ    ABY    ACK    ACT    ACV    ACY    ADK    ADQ    AEX \n",
       "  4807   2660  41146   1095    457   1993   3714    116    102    706   2330 \n",
       "   AGS    AKN    ALB    ALO    AMA    ANC    ASE    ATL    ATW    AUS    AVL \n",
       "  2403    116  13474    323   7496  19327   5307 414513   5873  49623   4399 \n",
       "   AVP    AZO    BDL    BET    BFL    BGM    BGR    BHM    BIL    BIS    BJI \n",
       "  2386   3924  29449   1035   4502    728   2879  23679   4505   2293     74 \n",
       "   BLI    BMI    BNA    BOI    BOS    BPT    BQK    BQN    BRO    BRW    BTM \n",
       "   120   4801  57539  17024 117915    276    925   1519   1464    728    708 \n",
       "   BTR    BTV    BUF    BUR    BWI    BZN    CAE    CAK    CDC    CDV    CEC \n",
       "  8941   7005  26281  31405 104074   4659  10550   8994    668    725   1063 \n",
       "   CHA    CHO    CHS    CIC    CID    CLD    CLE    CLL    CLT    CMH    CMI \n",
       "  4571    823  14181   1392   9377   2303  65795   1367 126045  34157   2774 \n",
       "   CMX    COD    COS    CPR    CRP    CRW    CSG    CVG    CWA    DAB    DAL \n",
       "   318   1188  16201   2709   5270   3414   1481  91265   2563   2957  53928 \n",
       "   DAY    DBQ    DCA    DEN    DFW    DHN    DLG    DLH    DRO    DSM    DTW \n",
       " 15791   1349  86662 241443 281281   1397    116   2013   3674  16643 161989 \n",
       "   EGE    EKO    ELM    ELP    ERI    EUG    EVV    EWN    EWR    EYW    FAI \n",
       "  3106   1580   1336  20731   1399   5749   5844    791 138506   1009   4822 \n",
       "   FAR    FAT    FAY    FCA    FLG    FLL    FLO    FNT    FSD    FSM    FWA \n",
       "  4431  14278   2267   2762   1871  67177    615   8749   5828   2937   6144 \n",
       "   GCC    GEG    GFK    GGG    GJT    GNV    GPT    GRB    GRK    GRR    GSO \n",
       "  1046  15560   1371    978   5152   2064   8541   7930   3733  16616  13558 \n",
       "   GSP    GST    GTF    GTR    GUC    HDN    HHH    HLN    HNL    HOU    HPN \n",
       " 11856     85   2140    964    959   2398    836   1986  56276  55933  10715 \n",
       "   HRL    HSV    HTS    IAD    IAH    ICT    IDA    ILM    IND    INL    IPL \n",
       "  4421  10791    158  76031 185172  14050   3103   3397  42750     72    989 \n",
       "   ISP    ITH    ITO    IYK    JAC    JAN    JAX    JFK    JNU    KOA    KTN \n",
       " 10183    132   8051    958   3766  12609  32685 118804   4410  12710   2380 \n",
       "   LAN    LAS    LAW    LAX    LBB    LCH    LEX    LFT    LGA    LGB    LIH \n",
       "  3693 172876   2369 215608   8249   1000  10344   4879 119135  15443  13184 \n",
       "   LIT    LMT    LNK    LRD    LSE    LWB    LWS    LYH    MAF    MBS    MCI \n",
       " 15369    511   3037   2115   2005    185    652    625   6839   2918  59370 \n",
       "   MCN    MCO    MDT    MDW    MEI    MEM    MFE    MFR    MGM    MHT    MIA \n",
       "   652 130872   7594  87619    674  80966   4116   5652   3851  18588  62559 \n",
       "   MKE    MKG    MLB    MLI    MLU    MOB    MOD    MOT    MQT    MRY    MSN \n",
       " 42700    396   2002   8567   2530   6348   2325   1085    991   7607  13961 \n",
       "   MSO    MSP    MSY    MTJ    MYR    OAJ    OAK    OGG    OKC    OMA    OME \n",
       "  3256 130289  39422   2419   5335   1184  62535  19940  25152  27007   1090 \n",
       "   ONT    ORD    ORF    OTH    OTZ    OXR    PBI    PDX    PFN    PHF    PHL \n",
       " 35072 350380  16458    515   1086   1292  27822  57860   3875   6406 100499 \n",
       "   PHX    PIA    PIH    PIR    PIT    PLN    PMD    PNS    PSC    PSE    PSG \n",
       "199408   5581   1659      5  41800    264    728   9497   2541    755    727 \n",
       "   PSP    PUB    PVD    PWM    RAP    RDD    RDM    RDU    RFD    RHI    RIC \n",
       " 11979      2  22509   6897   4161   1682   3434  60179    290    221  19977 \n",
       "   RKS    RNO    ROA    ROC    ROW    RST    RSW    SAN    SAT    SAV    SBA \n",
       "   954  24286   3720  14264    961   3353  27136  93775  45270  13774  12568 \n",
       "   SBN    SBP    SCC    SCE    SDF    SEA    SFO    SGF    SGU    SHV    SIT \n",
       "  5319   5846    727    645  22458 109069 140587  10087   3319   8079   1332 \n",
       "   SJC    SJT    SJU    SLC    SLE    SMF    SMX    SNA    SPI    SPS    SRQ \n",
       " 57136   1316  21676 139088    486  53056   1681  47376   1225   1834   6432 \n",
       "   STL    STT    STX    SUN    SUX    SWF    SYR    TEX    TLH    TOL    TPA \n",
       " 62733   2972    436   2871    122   4249  12032    194   5912   1478  78179 \n",
       "   TRI    TUL    TUP    TUS    TVC    TWF    TXK    TYR    TYS    VLD    VPS \n",
       "  2117  23459     10  26661   4262   1813   1250   1585  14004    938   6820 \n",
       "   WRG    WYS    XNA    YAK    YKM    YUM \n",
       "   727    264  14112    725    340   3871 "
      ]
     },
     "metadata": {},
     "output_type": "display_data"
    }
   ],
   "source": [
    "table(myDF$Origin)"
   ]
  },
  {
   "cell_type": "code",
   "execution_count": 44,
   "metadata": {
    "run_control": {
     "frozen": false,
     "read_only": false
    }
   },
   "outputs": [
    {
     "data": {
      "text/plain": [
       "\n",
       "   PUB    PIR    TUP    INL    BJI    GST    ADK    ACY    AKN    DLG    BLI \n",
       "     2      5     10     72     74     85    102    116    116    116    120 \n",
       "   SUX    ITH    HTS    LWB    TEX    RHI    PLN    WYS    BPT    RFD    CMX \n",
       "   122    132    158    185    194    221    264    264    276    290    318 \n",
       "   ALO    YKM    MKG    STX    ACK    SLE    LMT    OTH    FLO    LYH    SCE \n",
       "   323    340    396    436    457    486    511    515    615    625    645 \n",
       "   LWS    MCN    CDC    MEI    ADQ    BTM    CDV    YAK    PSG    SCC    WRG \n",
       "   652    652    668    674    706    708    725    725    727    727    727 \n",
       "   BGM    BRW    PMD    PSE    EWN    CHO    HHH    BQK    VLD    RKS    IYK \n",
       "   728    728    728    755    791    823    836    925    938    954    958 \n",
       "   GUC    ROW    GTR    GGG    IPL    MQT    LCH    EYW    BET    GCC    CEC \n",
       "   959    961    964    978    989    991   1000   1009   1035   1046   1063 \n",
       "   MOT    OTZ    OME    ABY    OAJ    COD    SPI    TXK    OXR    SJT    SIT \n",
       "  1085   1086   1090   1095   1184   1188   1225   1250   1292   1316   1332 \n",
       "   ELM    DBQ    CLL    GFK    CIC    DHN    ERI    BRO    TOL    CSG    BQN \n",
       "  1336   1349   1367   1371   1392   1397   1399   1464   1478   1481   1519 \n",
       "   EKO    TYR    PIH    SMX    RDD    TWF    SPS    FLG    HLN    ACT    MLB \n",
       "  1580   1585   1659   1681   1682   1813   1834   1871   1986   1993   2002 \n",
       "   LSE    DLH    GNV    LRD    TRI    GTF    FAY    BIS    CLD    MOD    AEX \n",
       "  2005   2013   2064   2115   2117   2140   2267   2293   2303   2325   2330 \n",
       "   LAW    KTN    AVP    HDN    AGS    MTJ    MLU    PSC    CWA    ABI    CPR \n",
       "  2369   2380   2386   2398   2403   2419   2530   2541   2563   2660   2709 \n",
       "   FCA    CMI    SUN    BGR    MBS    FSM    DAB    STT    LNK    IDA    EGE \n",
       "  2762   2774   2871   2879   2918   2937   2957   2972   3037   3103   3106 \n",
       "   MSO    SGU    RST    ILM    CRW    RDM    DRO    LAN    ACV    ROA    GRK \n",
       "  3256   3319   3353   3397   3414   3434   3674   3693   3714   3720   3733 \n",
       "   JAC    MGM    YUM    PFN    AZO    MFE    RAP    SWF    TVC    AVL    JNU \n",
       "  3766   3851   3871   3875   3924   4116   4161   4249   4262   4399   4410 \n",
       "   HRL    FAR    BFL    BIL    CHA    BZN    BMI    ABE    FAI    LFT    GJT \n",
       "  4421   4431   4502   4505   4571   4659   4801   4807   4822   4879   5152 \n",
       "   CRP    ASE    SBN    MYR    PIA    MFR    EUG    FSD    EVV    SBP    ATW \n",
       "  5270   5307   5319   5335   5581   5652   5749   5828   5844   5846   5873 \n",
       "   TLH    FWA    MOB    PHF    SRQ    VPS    MAF    PWM    BTV    AMA    MDT \n",
       "  5912   6144   6348   6406   6432   6820   6839   6897   7005   7496   7594 \n",
       "   MRY    GRB    ITO    SHV    LBB    GPT    MLI    FNT    BTR    CAK    CID \n",
       "  7607   7930   8051   8079   8249   8541   8567   8749   8941   8994   9377 \n",
       "   PNS    SGF    ISP    LEX    CAE    HPN    HSV    GSP    PSP    SYR    SBA \n",
       "  9497  10087  10183  10344  10550  10715  10791  11856  11979  12032  12568 \n",
       "   JAN    KOA    LIH    ALB    GSO    SAV    MSN    TYS    ICT    XNA    CHS \n",
       " 12609  12710  13184  13474  13558  13774  13961  14004  14050  14112  14181 \n",
       "   ROC    FAT    LIT    LGB    GEG    DAY    COS    ORF    GRR    DSM    BOI \n",
       " 14264  14278  15369  15443  15560  15791  16201  16458  16616  16643  17024 \n",
       "   MHT    ANC    OGG    RIC    ELP    SJU    SDF    PVD    TUL    BHM    RNO \n",
       " 18588  19327  19940  19977  20731  21676  22458  22509  23459  23679  24286 \n",
       "   OKC    BUF    TUS    OMA    RSW    PBI    BDL    BUR    JAX    CMH    ONT \n",
       " 25152  26281  26661  27007  27136  27822  29449  31405  32685  34157  35072 \n",
       "   MSY    ABQ    PIT    MKE    IND    SAT    SNA    AUS    SMF    DAL    HOU \n",
       " 39422  41146  41800  42700  42750  45270  47376  49623  53056  53928  55933 \n",
       "   HNL    SJC    BNA    PDX    MCI    RDU    OAK    MIA    STL    CLE    FLL \n",
       " 56276  57136  57539  57860  59370  60179  62535  62559  62733  65795  67177 \n",
       "   IAD    TPA    MEM    DCA    MDW    CVG    SAN    PHL    BWI    SEA    BOS \n",
       " 76031  78179  80966  86662  87619  91265  93775 100499 104074 109069 117915 \n",
       "   JFK    LGA    CLT    MSP    MCO    EWR    SLC    SFO    DTW    LAS    IAH \n",
       "118804 119135 126045 130289 130872 138506 139088 140587 161989 172876 185172 \n",
       "   PHX    LAX    DEN    DFW    ORD    ATL \n",
       "199408 215608 241443 281281 350380 414513 "
      ]
     },
     "metadata": {},
     "output_type": "display_data"
    }
   ],
   "source": [
    "sort(table(myDF$Origin))"
   ]
  },
  {
   "cell_type": "code",
   "execution_count": 45,
   "metadata": {
    "run_control": {
     "frozen": false,
     "read_only": false
    },
    "scrolled": true
   },
   "outputs": [
    {
     "data": {
      "text/html": [
       "<ol class=list-inline>\n",
       "\t<li>2003</li>\n",
       "\t<li>754</li>\n",
       "\t<li>628</li>\n",
       "\t<li>926</li>\n",
       "\t<li>1829</li>\n",
       "\t<li>1940</li>\n",
       "</ol>\n"
      ],
      "text/latex": [
       "\\begin{enumerate*}\n",
       "\\item 2003\n",
       "\\item 754\n",
       "\\item 628\n",
       "\\item 926\n",
       "\\item 1829\n",
       "\\item 1940\n",
       "\\end{enumerate*}\n"
      ],
      "text/markdown": [
       "1. 2003\n",
       "2. 754\n",
       "3. 628\n",
       "4. 926\n",
       "5. 1829\n",
       "6. 1940\n",
       "\n",
       "\n"
      ],
      "text/plain": [
       "[1] 2003  754  628  926 1829 1940"
      ]
     },
     "metadata": {},
     "output_type": "display_data"
    }
   ],
   "source": [
    "head(myDF$DepTime)"
   ]
  },
  {
   "cell_type": "code",
   "execution_count": 46,
   "metadata": {
    "run_control": {
     "frozen": false,
     "read_only": false
    }
   },
   "outputs": [
    {
     "data": {
      "text/html": [
       "<ol class=list-inline>\n",
       "\t<li>0</li>\n",
       "\t<li>100</li>\n",
       "\t<li>200</li>\n",
       "\t<li>300</li>\n",
       "\t<li>400</li>\n",
       "\t<li>500</li>\n",
       "\t<li>600</li>\n",
       "\t<li>700</li>\n",
       "\t<li>800</li>\n",
       "\t<li>900</li>\n",
       "\t<li>1000</li>\n",
       "\t<li>1100</li>\n",
       "\t<li>1200</li>\n",
       "\t<li>1300</li>\n",
       "\t<li>1400</li>\n",
       "\t<li>1500</li>\n",
       "\t<li>1600</li>\n",
       "\t<li>1700</li>\n",
       "\t<li>1800</li>\n",
       "\t<li>1900</li>\n",
       "\t<li>2000</li>\n",
       "\t<li>2100</li>\n",
       "\t<li>2200</li>\n",
       "\t<li>2300</li>\n",
       "\t<li>2400</li>\n",
       "</ol>\n"
      ],
      "text/latex": [
       "\\begin{enumerate*}\n",
       "\\item 0\n",
       "\\item 100\n",
       "\\item 200\n",
       "\\item 300\n",
       "\\item 400\n",
       "\\item 500\n",
       "\\item 600\n",
       "\\item 700\n",
       "\\item 800\n",
       "\\item 900\n",
       "\\item 1000\n",
       "\\item 1100\n",
       "\\item 1200\n",
       "\\item 1300\n",
       "\\item 1400\n",
       "\\item 1500\n",
       "\\item 1600\n",
       "\\item 1700\n",
       "\\item 1800\n",
       "\\item 1900\n",
       "\\item 2000\n",
       "\\item 2100\n",
       "\\item 2200\n",
       "\\item 2300\n",
       "\\item 2400\n",
       "\\end{enumerate*}\n"
      ],
      "text/markdown": [
       "1. 0\n",
       "2. 100\n",
       "3. 200\n",
       "4. 300\n",
       "5. 400\n",
       "6. 500\n",
       "7. 600\n",
       "8. 700\n",
       "9. 800\n",
       "10. 900\n",
       "11. 1000\n",
       "12. 1100\n",
       "13. 1200\n",
       "14. 1300\n",
       "15. 1400\n",
       "16. 1500\n",
       "17. 1600\n",
       "18. 1700\n",
       "19. 1800\n",
       "20. 1900\n",
       "21. 2000\n",
       "22. 2100\n",
       "23. 2200\n",
       "24. 2300\n",
       "25. 2400\n",
       "\n",
       "\n"
      ],
      "text/plain": [
       " [1]    0  100  200  300  400  500  600  700  800  900 1000 1100 1200 1300 1400\n",
       "[16] 1500 1600 1700 1800 1900 2000 2100 2200 2300 2400"
      ]
     },
     "metadata": {},
     "output_type": "display_data"
    }
   ],
   "source": [
    "seq(0, 2400, by =100)"
   ]
  },
  {
   "cell_type": "code",
   "execution_count": 47,
   "metadata": {
    "run_control": {
     "frozen": false,
     "read_only": false
    },
    "scrolled": true
   },
   "outputs": [
    {
     "data": {
      "text/plain": [
       "\n",
       "   ABE    ABI    ABQ    ABY    ACK    ACT    ACV    ACY    ADK    ADQ    AEX \n",
       "  4807   2660  41146   1095    457   1993   3714    116    102    706   2330 \n",
       "   AGS    AKN    ALB    ALO    AMA    ANC    ASE    ATL    ATW    AUS    AVL \n",
       "  2403    116  13474    323   7496  19327   5307 414513   5873  49623   4399 \n",
       "   AVP    AZO    BDL    BET    BFL    BGM    BGR    BHM    BIL    BIS    BJI \n",
       "  2386   3924  29449   1035   4502    728   2879  23679   4505   2293     74 \n",
       "   BLI    BMI    BNA    BOI    BOS    BPT    BQK    BQN    BRO    BRW    BTM \n",
       "   120   4801  57539  17024 117915    276    925   1519   1464    728    708 \n",
       "   BTR    BTV    BUF    BUR    BWI    BZN    CAE    CAK    CDC    CDV    CEC \n",
       "  8941   7005  26281  31405 104074   4659  10550   8994    668    725   1063 \n",
       "   CHA    CHO    CHS    CIC    CID    CLD    CLE    CLL    CLT    CMH    CMI \n",
       "  4571    823  14181   1392   9377   2303  65795   1367 126045  34157   2774 \n",
       "   CMX    COD    COS    CPR    CRP    CRW    CSG    CVG    CWA    DAB    DAL \n",
       "   318   1188  16201   2709   5270   3414   1481  91265   2563   2957  53928 \n",
       "   DAY    DBQ    DCA    DEN    DFW    DHN    DLG    DLH    DRO    DSM    DTW \n",
       " 15791   1349  86662 241443 281281   1397    116   2013   3674  16643 161989 \n",
       "   EGE    EKO    ELM    ELP    ERI    EUG    EVV    EWN    EWR    EYW    FAI \n",
       "  3106   1580   1336  20731   1399   5749   5844    791 138506   1009   4822 \n",
       "   FAR    FAT    FAY    FCA    FLG    FLL    FLO    FNT    FSD    FSM    FWA \n",
       "  4431  14278   2267   2762   1871  67177    615   8749   5828   2937   6144 \n",
       "   GCC    GEG    GFK    GGG    GJT    GNV    GPT    GRB    GRK    GRR    GSO \n",
       "  1046  15560   1371    978   5152   2064   8541   7930   3733  16616  13558 \n",
       "   GSP    GST    GTF    GTR    GUC    HDN    HHH    HLN    HNL    HOU    HPN \n",
       " 11856     85   2140    964    959   2398    836   1986  56276  55933  10715 \n",
       "   HRL    HSV    HTS    IAD    IAH    ICT    IDA    ILM    IND    INL    IPL \n",
       "  4421  10791    158  76031 185172  14050   3103   3397  42750     72    989 \n",
       "   ISP    ITH    ITO    IYK    JAC    JAN    JAX    JFK    JNU    KOA    KTN \n",
       " 10183    132   8051    958   3766  12609  32685 118804   4410  12710   2380 \n",
       "   LAN    LAS    LAW    LAX    LBB    LCH    LEX    LFT    LGA    LGB    LIH \n",
       "  3693 172876   2369 215608   8249   1000  10344   4879 119135  15443  13184 \n",
       "   LIT    LMT    LNK    LRD    LSE    LWB    LWS    LYH    MAF    MBS    MCI \n",
       " 15369    511   3037   2115   2005    185    652    625   6839   2918  59370 \n",
       "   MCN    MCO    MDT    MDW    MEI    MEM    MFE    MFR    MGM    MHT    MIA \n",
       "   652 130872   7594  87619    674  80966   4116   5652   3851  18588  62559 \n",
       "   MKE    MKG    MLB    MLI    MLU    MOB    MOD    MOT    MQT    MRY    MSN \n",
       " 42700    396   2002   8567   2530   6348   2325   1085    991   7607  13961 \n",
       "   MSO    MSP    MSY    MTJ    MYR    OAJ    OAK    OGG    OKC    OMA    OME \n",
       "  3256 130289  39422   2419   5335   1184  62535  19940  25152  27007   1090 \n",
       "   ONT    ORD    ORF    OTH    OTZ    OXR    PBI    PDX    PFN    PHF    PHL \n",
       " 35072 350380  16458    515   1086   1292  27822  57860   3875   6406 100499 \n",
       "   PHX    PIA    PIH    PIR    PIT    PLN    PMD    PNS    PSC    PSE    PSG \n",
       "199408   5581   1659      5  41800    264    728   9497   2541    755    727 \n",
       "   PSP    PUB    PVD    PWM    RAP    RDD    RDM    RDU    RFD    RHI    RIC \n",
       " 11979      2  22509   6897   4161   1682   3434  60179    290    221  19977 \n",
       "   RKS    RNO    ROA    ROC    ROW    RST    RSW    SAN    SAT    SAV    SBA \n",
       "   954  24286   3720  14264    961   3353  27136  93775  45270  13774  12568 \n",
       "   SBN    SBP    SCC    SCE    SDF    SEA    SFO    SGF    SGU    SHV    SIT \n",
       "  5319   5846    727    645  22458 109069 140587  10087   3319   8079   1332 \n",
       "   SJC    SJT    SJU    SLC    SLE    SMF    SMX    SNA    SPI    SPS    SRQ \n",
       " 57136   1316  21676 139088    486  53056   1681  47376   1225   1834   6432 \n",
       "   STL    STT    STX    SUN    SUX    SWF    SYR    TEX    TLH    TOL    TPA \n",
       " 62733   2972    436   2871    122   4249  12032    194   5912   1478  78179 \n",
       "   TRI    TUL    TUP    TUS    TVC    TWF    TXK    TYR    TYS    VLD    VPS \n",
       "  2117  23459     10  26661   4262   1813   1250   1585  14004    938   6820 \n",
       "   WRG    WYS    XNA    YAK    YKM    YUM \n",
       "   727    264  14112    725    340   3871 "
      ]
     },
     "metadata": {},
     "output_type": "display_data"
    }
   ],
   "source": [
    "#Identifying the Most Popular Flight Paths\n",
    "table(myDF$Origin)"
   ]
  },
  {
   "cell_type": "code",
   "execution_count": 48,
   "metadata": {
    "run_control": {
     "frozen": false,
     "read_only": false
    },
    "scrolled": true
   },
   "outputs": [
    {
     "data": {
      "text/plain": [
       "\n",
       "   PUB    PIR    TUP    INL    BJI    GST    ADK    ACY    AKN    DLG    BLI \n",
       "     2      5     10     72     74     85    102    116    116    116    120 \n",
       "   SUX    ITH    HTS    LWB    TEX    RHI    PLN    WYS    BPT    RFD    CMX \n",
       "   122    132    158    185    194    221    264    264    276    290    318 \n",
       "   ALO    YKM    MKG    STX    ACK    SLE    LMT    OTH    FLO    LYH    SCE \n",
       "   323    340    396    436    457    486    511    515    615    625    645 \n",
       "   LWS    MCN    CDC    MEI    ADQ    BTM    CDV    YAK    PSG    SCC    WRG \n",
       "   652    652    668    674    706    708    725    725    727    727    727 \n",
       "   BGM    BRW    PMD    PSE    EWN    CHO    HHH    BQK    VLD    RKS    IYK \n",
       "   728    728    728    755    791    823    836    925    938    954    958 \n",
       "   GUC    ROW    GTR    GGG    IPL    MQT    LCH    EYW    BET    GCC    CEC \n",
       "   959    961    964    978    989    991   1000   1009   1035   1046   1063 \n",
       "   MOT    OTZ    OME    ABY    OAJ    COD    SPI    TXK    OXR    SJT    SIT \n",
       "  1085   1086   1090   1095   1184   1188   1225   1250   1292   1316   1332 \n",
       "   ELM    DBQ    CLL    GFK    CIC    DHN    ERI    BRO    TOL    CSG    BQN \n",
       "  1336   1349   1367   1371   1392   1397   1399   1464   1478   1481   1519 \n",
       "   EKO    TYR    PIH    SMX    RDD    TWF    SPS    FLG    HLN    ACT    MLB \n",
       "  1580   1585   1659   1681   1682   1813   1834   1871   1986   1993   2002 \n",
       "   LSE    DLH    GNV    LRD    TRI    GTF    FAY    BIS    CLD    MOD    AEX \n",
       "  2005   2013   2064   2115   2117   2140   2267   2293   2303   2325   2330 \n",
       "   LAW    KTN    AVP    HDN    AGS    MTJ    MLU    PSC    CWA    ABI    CPR \n",
       "  2369   2380   2386   2398   2403   2419   2530   2541   2563   2660   2709 \n",
       "   FCA    CMI    SUN    BGR    MBS    FSM    DAB    STT    LNK    IDA    EGE \n",
       "  2762   2774   2871   2879   2918   2937   2957   2972   3037   3103   3106 \n",
       "   MSO    SGU    RST    ILM    CRW    RDM    DRO    LAN    ACV    ROA    GRK \n",
       "  3256   3319   3353   3397   3414   3434   3674   3693   3714   3720   3733 \n",
       "   JAC    MGM    YUM    PFN    AZO    MFE    RAP    SWF    TVC    AVL    JNU \n",
       "  3766   3851   3871   3875   3924   4116   4161   4249   4262   4399   4410 \n",
       "   HRL    FAR    BFL    BIL    CHA    BZN    BMI    ABE    FAI    LFT    GJT \n",
       "  4421   4431   4502   4505   4571   4659   4801   4807   4822   4879   5152 \n",
       "   CRP    ASE    SBN    MYR    PIA    MFR    EUG    FSD    EVV    SBP    ATW \n",
       "  5270   5307   5319   5335   5581   5652   5749   5828   5844   5846   5873 \n",
       "   TLH    FWA    MOB    PHF    SRQ    VPS    MAF    PWM    BTV    AMA    MDT \n",
       "  5912   6144   6348   6406   6432   6820   6839   6897   7005   7496   7594 \n",
       "   MRY    GRB    ITO    SHV    LBB    GPT    MLI    FNT    BTR    CAK    CID \n",
       "  7607   7930   8051   8079   8249   8541   8567   8749   8941   8994   9377 \n",
       "   PNS    SGF    ISP    LEX    CAE    HPN    HSV    GSP    PSP    SYR    SBA \n",
       "  9497  10087  10183  10344  10550  10715  10791  11856  11979  12032  12568 \n",
       "   JAN    KOA    LIH    ALB    GSO    SAV    MSN    TYS    ICT    XNA    CHS \n",
       " 12609  12710  13184  13474  13558  13774  13961  14004  14050  14112  14181 \n",
       "   ROC    FAT    LIT    LGB    GEG    DAY    COS    ORF    GRR    DSM    BOI \n",
       " 14264  14278  15369  15443  15560  15791  16201  16458  16616  16643  17024 \n",
       "   MHT    ANC    OGG    RIC    ELP    SJU    SDF    PVD    TUL    BHM    RNO \n",
       " 18588  19327  19940  19977  20731  21676  22458  22509  23459  23679  24286 \n",
       "   OKC    BUF    TUS    OMA    RSW    PBI    BDL    BUR    JAX    CMH    ONT \n",
       " 25152  26281  26661  27007  27136  27822  29449  31405  32685  34157  35072 \n",
       "   MSY    ABQ    PIT    MKE    IND    SAT    SNA    AUS    SMF    DAL    HOU \n",
       " 39422  41146  41800  42700  42750  45270  47376  49623  53056  53928  55933 \n",
       "   HNL    SJC    BNA    PDX    MCI    RDU    OAK    MIA    STL    CLE    FLL \n",
       " 56276  57136  57539  57860  59370  60179  62535  62559  62733  65795  67177 \n",
       "   IAD    TPA    MEM    DCA    MDW    CVG    SAN    PHL    BWI    SEA    BOS \n",
       " 76031  78179  80966  86662  87619  91265  93775 100499 104074 109069 117915 \n",
       "   JFK    LGA    CLT    MSP    MCO    EWR    SLC    SFO    DTW    LAS    IAH \n",
       "118804 119135 126045 130289 130872 138506 139088 140587 161989 172876 185172 \n",
       "   PHX    LAX    DEN    DFW    ORD    ATL \n",
       "199408 215608 241443 281281 350380 414513 "
      ]
     },
     "metadata": {},
     "output_type": "display_data"
    }
   ],
   "source": [
    "sort(table(myDF$Origin))"
   ]
  },
  {
   "cell_type": "code",
   "execution_count": null,
   "metadata": {
    "collapsed": true,
    "run_control": {
     "frozen": false,
     "read_only": false
    }
   },
   "outputs": [],
   "source": [
    "#Identifying the Most Popular Flight Paths\n",
    "\n",
    "head(myDF$Origin)\n",
    "head(myDF$Dest)"
   ]
  },
  {
   "cell_type": "code",
   "execution_count": 59,
   "metadata": {
    "run_control": {
     "frozen": false,
     "read_only": false
    },
    "scrolled": true
   },
   "outputs": [
    {
     "data": {
      "text/plain": [
       "\n",
       "HNL to OGG BOS to LGA LGA to BOS OGG to HNL LAX to SFO SFO to LAX \n",
       "     12014      12029      12035      12383      13390      13788 "
      ]
     },
     "metadata": {},
     "output_type": "display_data"
    }
   ],
   "source": [
    "tail(sort(table(paste(myDF$Origin, \"to\" , myDF$Dest))))"
   ]
  },
  {
   "cell_type": "code",
   "execution_count": null,
   "metadata": {
    "collapsed": true,
    "run_control": {
     "frozen": false,
     "read_only": false
    }
   },
   "outputs": [],
   "source": [
    "# How many origin-to-destination paths were only flown one time (each) in 2008?\n",
    "table(paste(myDF$Origin, \"to\", myDF$Dest)) == 1"
   ]
  },
  {
   "cell_type": "code",
   "execution_count": 66,
   "metadata": {
    "run_control": {
     "frozen": false,
     "read_only": false
    }
   },
   "outputs": [
    {
     "data": {
      "text/html": [
       "285"
      ],
      "text/latex": [
       "285"
      ],
      "text/markdown": [
       "285"
      ],
      "text/plain": [
       "[1] 285"
      ]
     },
     "metadata": {},
     "output_type": "display_data"
    }
   ],
   "source": [
    "sum(table(paste(myDF$Origin, \"to\", myDF$Dest)) == 1)"
   ]
  }
 ],
 "metadata": {
  "kernelspec": {
   "display_name": "R",
   "language": "R",
   "name": "ir"
  },
  "language_info": {
   "codemirror_mode": "r",
   "file_extension": ".r",
   "mimetype": "text/x-r-source",
   "name": "R",
   "pygments_lexer": "r",
   "version": "3.3.2"
  }
 },
 "nbformat": 4,
 "nbformat_minor": 2
}
